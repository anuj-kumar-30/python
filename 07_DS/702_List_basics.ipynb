{
 "cells": [
  {
   "cell_type": "markdown",
   "id": "890211c3-599c-4194-b0c2-97b04c745246",
   "metadata": {},
   "source": [
    "### Question 1: Create a function to find the average sales from a list of daily sales amounts. Ignore any days with 0 sales."
   ]
  },
  {
   "cell_type": "code",
   "execution_count": 2,
   "id": "f9fe9929-5875-44ba-9f36-1c3081ac8c9c",
   "metadata": {},
   "outputs": [],
   "source": [
    "def avgSales(sales):\n",
    "    amt=0\n",
    "    for i in sales:\n",
    "        amt=amt+i\n",
    "    return amt/len(sales)"
   ]
  },
  {
   "cell_type": "markdown",
   "id": "5aaab19b-9610-4f73-ba74-ffe673e76187",
   "metadata": {},
   "source": [
    "### Question 2: Write a function that takes a list of prices and a discount percentage, then returns a list of prices after the discount."
   ]
  },
  {
   "cell_type": "code",
   "execution_count": 5,
   "id": "6eb686f1-70d8-47ce-bcb8-e1a0ed9fdd0f",
   "metadata": {},
   "outputs": [],
   "source": [
    "def discountPrices(prices, discount):\n",
    "    discountPrc=[]\n",
    "    for i in range(len(prices)):\n",
    "        x=prices[i]-(prices[i]*0.01*discount[i])\n",
    "        discountPrc.append(x)\n",
    "    return discountPrc"
   ]
  },
  {
   "cell_type": "markdown",
   "id": "e2360571-7c11-417d-9cba-b31d8ab64076",
   "metadata": {},
   "source": [
    "### Question 3: Develop a function that merges two sorted lists into a single sorted list."
   ]
  },
  {
   "cell_type": "code",
   "execution_count": 6,
   "id": "99eec721-388c-40ee-9f78-12c1519f9174",
   "metadata": {},
   "outputs": [],
   "source": [
    "'''\n",
    "TC: O(n1+n2)\n",
    "SC: O(n1+n2)\n",
    "'''\n",
    "def mergeArr(l1,l2):\n",
    "    (i,j)=(0,0)\n",
    "    (n1,n2)=(len(l1),len(l2))\n",
    "    sortedarr=[]\n",
    "    while(i<n1 and j<n2):\n",
    "        if l1[i]<l2[j]:\n",
    "            sortedarr.append(l1[i])\n",
    "            i=i+1\n",
    "        elif l1[i]>l2[j]:\n",
    "            sortedarr.append(l2[j])\n",
    "            j=j+1\n",
    "        else:\n",
    "            sortedarr.append(l1[i])\n",
    "            sortedarr.append(l2[j])\n",
    "            i=i+1\n",
    "            j=j+1\n",
    "    while(i<n1):\n",
    "        sortedarr.append(l1[i])\n",
    "        i=i+1\n",
    "    while(j<n2):\n",
    "        sortedarr.append(l2[j])\n",
    "        j=j+1\n",
    "    return sortedarr"
   ]
  },
  {
   "cell_type": "markdown",
   "id": "d8cca025-807d-4ff6-adb4-14e6fe6d75f2",
   "metadata": {},
   "source": [
    "### Question 4: Implement a function to find and remove all instances of a given value from a list."
   ]
  },
  {
   "cell_type": "code",
   "execution_count": 7,
   "id": "b6e24536-29d3-4e9b-9196-25d5eb9f1070",
   "metadata": {},
   "outputs": [],
   "source": [
    "def rmAllElement(l1, ele):\n",
    "    i=0\n",
    "    while(i<len(l1)):\n",
    "        if (l1[i]==ele):\n",
    "            l1.pop(i)\n",
    "        else:\n",
    "            i=i+1\n",
    "    return l1"
   ]
  },
  {
   "cell_type": "code",
   "execution_count": 8,
   "id": "74773e41-5f10-4a7c-b429-b3d1a6646153",
   "metadata": {},
   "outputs": [
    {
     "data": {
      "text/plain": [
       "[1, 4, 4, 43, 5, 3, 1, 3, 4, 5, 5, 3, 12]"
      ]
     },
     "execution_count": 8,
     "metadata": {},
     "output_type": "execute_result"
    }
   ],
   "source": [
    "rmAllElement([1,2,4,2,2,4,2,43,5,3,2,1,3,4,5,5,3,2,2,12,2,2,2,2,2,2,2,2],2)"
   ]
  },
  {
   "cell_type": "markdown",
   "id": "0edfd687-bd7f-4684-b79e-4dc732c2427a",
   "metadata": {},
   "source": [
    "### Question 5: A finance application requires a function to categorize monthly expenses into groups like 'Rent', 'Groceries', etc., and sum the expenses in each category."
   ]
  },
  {
   "cell_type": "code",
   "execution_count": null,
   "id": "cf70e254-25ad-4015-8e30-ba3bcc701ecc",
   "metadata": {},
   "outputs": [],
   "source": []
  },
  {
   "cell_type": "markdown",
   "id": "5d8f842c-5b5b-404d-b3b4-0c41b8a523d8",
   "metadata": {},
   "source": [
    "### Question 6: Write a function that takes a list of employee names and returns a list of initials."
   ]
  },
  {
   "cell_type": "code",
   "execution_count": 12,
   "id": "7760ab46-6b01-4ccd-91d1-59271355b28d",
   "metadata": {},
   "outputs": [],
   "source": [
    "def empInitials(names):\n",
    "    Initials=[]\n",
    "    for i in names:\n",
    "        x=i.split(' ')\n",
    "        if len(x)==1:\n",
    "            x.append(' ')\n",
    "        Initials.append(x[0][0]+x[1][0])\n",
    "    return Initials"
   ]
  },
  {
   "cell_type": "code",
   "execution_count": 13,
   "id": "358a7095-801d-4316-ac30-29dbd233de21",
   "metadata": {},
   "outputs": [
    {
     "data": {
      "text/plain": [
       "['ak', 'ay', 'as', 'a ']"
      ]
     },
     "execution_count": 13,
     "metadata": {},
     "output_type": "execute_result"
    }
   ],
   "source": [
    "empInitials(['anuj kumar', 'ashish yadav', 'abhi sameer','aksh'])"
   ]
  },
  {
   "cell_type": "markdown",
   "id": "08f80386-ba9e-4c6f-8589-8f71076509ae",
   "metadata": {},
   "source": [
    "### Question 7: Create a function to filter out all negative numbers from a list of temperatures, returning only the days with positive temperatures."
   ]
  },
  {
   "cell_type": "code",
   "execution_count": 14,
   "id": "eb939acd-9b6f-4b68-b559-bb6333250d0d",
   "metadata": {},
   "outputs": [],
   "source": [
    "def rmNegTemp(temp):\n",
    "    i=0\n",
    "    while(i<len(temp)):\n",
    "        if temp[i]<0:\n",
    "            temp.pop(i)\n",
    "        else:\n",
    "            i=i+1\n",
    "    return temp"
   ]
  },
  {
   "cell_type": "markdown",
   "id": "9df97e7a-a6eb-4784-913c-c308eabdd37c",
   "metadata": {},
   "source": [
    "### Question 8: Given a list of products (as dictionaries with name and price), write a function to increase the price of all products by a given percentage."
   ]
  },
  {
   "cell_type": "code",
   "execution_count": 27,
   "id": "c4e3e883-28a7-4974-ba7c-73253265bdb3",
   "metadata": {},
   "outputs": [],
   "source": [
    "def newPrice(dct,amtper):\n",
    "    for i,j in dct.items():\n",
    "        dct[i]=dct[i]+(dct[i]*0.01*amtper)\n",
    "    return dct"
   ]
  },
  {
   "cell_type": "code",
   "execution_count": 28,
   "id": "86b88084-0230-44e1-b221-4e319034be3f",
   "metadata": {},
   "outputs": [
    {
     "data": {
      "text/plain": [
       "{'a': 27.5, 'b': 22.0, 'c': 110.0}"
      ]
     },
     "execution_count": 28,
     "metadata": {},
     "output_type": "execute_result"
    }
   ],
   "source": [
    "newPrice({'a':25,'b':20,'c':100},10)"
   ]
  },
  {
   "cell_type": "code",
   "execution_count": 25,
   "id": "a58bba42-1ea0-4234-a6bd-d70b6c7c0b78",
   "metadata": {},
   "outputs": [],
   "source": [
    "dct={'a':25,'b':20,'c':100}\n",
    "dct['a']=0"
   ]
  },
  {
   "cell_type": "code",
   "execution_count": 26,
   "id": "6a9de489-0a2e-4b27-8483-25dffee6076f",
   "metadata": {},
   "outputs": [
    {
     "data": {
      "text/plain": [
       "{'a': 0, 'b': 20, 'c': 100}"
      ]
     },
     "execution_count": 26,
     "metadata": {},
     "output_type": "execute_result"
    }
   ],
   "source": [
    "dct"
   ]
  },
  {
   "cell_type": "markdown",
   "id": "6a140cf1-38aa-4d76-8d53-37d05d92bbf5",
   "metadata": {},
   "source": [
    "### Question 9: Implement a function that takes a list of strings (words) and returns a dictionary with each unique word as a key and its frequency as the value."
   ]
  },
  {
   "cell_type": "code",
   "execution_count": null,
   "id": "a50f653c-4650-40b5-bf06-7f6896d68ce6",
   "metadata": {},
   "outputs": [],
   "source": []
  }
 ],
 "metadata": {
  "kernelspec": {
   "display_name": "Python 3 (ipykernel)",
   "language": "python",
   "name": "python3"
  },
  "language_info": {
   "codemirror_mode": {
    "name": "ipython",
    "version": 3
   },
   "file_extension": ".py",
   "mimetype": "text/x-python",
   "name": "python",
   "nbconvert_exporter": "python",
   "pygments_lexer": "ipython3",
   "version": "3.13.1"
  }
 },
 "nbformat": 4,
 "nbformat_minor": 5
}
