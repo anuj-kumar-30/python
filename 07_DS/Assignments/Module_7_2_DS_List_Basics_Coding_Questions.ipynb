{
 "cells": [
  {
   "cell_type": "markdown",
   "id": "f7a657cc",
   "metadata": {},
   "source": [
    "## Module 7.2 Data Structures - List Basics: Coding Questions\n",
    "\n",
    "Here are a set of coding questions focusing on list manipulation and usage. Each question is designed to test your understanding of basic list operations and algorithmic thinking."
   ]
  },
  {
   "cell_type": "markdown",
   "id": "6a58b789",
   "metadata": {},
   "source": [
    "### Question 1:\n",
    "Create a function to find the average sales from a list of daily sales amounts. Ignore any days with 0 sales.\n",
    "\n",
    "*Hint: Use a loop to sum the sales and count the days with sales. Divide the total sales by the number of days with sales for the average.*"
   ]
  },
  {
   "cell_type": "code",
   "execution_count": 1,
   "id": "3fed2c4a",
   "metadata": {},
   "outputs": [],
   "source": [
    "def average_sales(sales):\n",
    "    # your code here\n",
    "    # pass\n",
    "    return sum(sales)/len(sales)"
   ]
  },
  {
   "cell_type": "markdown",
   "id": "0ed1eddb",
   "metadata": {},
   "source": [
    "### Question 2:\n",
    "Write a function that takes a list of prices and a discount percentage, then returns a list of prices after the discount.\n",
    "\n",
    "*Hint: Use a loop to iterate over the list and apply the discount to each price. Store the results in a new list.*"
   ]
  },
  {
   "cell_type": "code",
   "execution_count": 2,
   "id": "9e5678c1",
   "metadata": {},
   "outputs": [],
   "source": [
    "def apply_discount(prices, discount_percentage):\n",
    "    # your code here\n",
    "    # pass\n",
    "    for i in range(len(prices)):\n",
    "        prices[i]=prices[i]-(prices[i]*0.01)*discount_percentage\n",
    "    return prices"
   ]
  },
  {
   "cell_type": "markdown",
   "id": "38788389",
   "metadata": {},
   "source": [
    "### Question 3:\n",
    "Develop a function that merges two sorted lists into a single sorted list.\n",
    "\n",
    "*Hint: Start with two indices, comparing elements from each list and adding the smaller one to a new list until all elements are added.*"
   ]
  },
  {
   "cell_type": "code",
   "execution_count": 4,
   "id": "a7d5bbcd",
   "metadata": {},
   "outputs": [],
   "source": [
    "def merge_sorted_lists(list1, list2):\n",
    "    # your code here\n",
    "    # pass\n",
    "    ans=[]\n",
    "    (i,j,n1,n2)=(0,0,len(list1),len(list2))\n",
    "    while(i<n1 and j<n2):\n",
    "        if list1[i]<list2[j]:\n",
    "            ans.append(list1[i])\n",
    "            i=i+1\n",
    "        elif list1[i]>list2[j]:\n",
    "            ans.append(list2[j])\n",
    "            j=j+1\n",
    "        else:\n",
    "            ans.append(list1[i])\n",
    "            i=i+1\n",
    "            j=j+1\n",
    "    while(i<n1):\n",
    "        ans.append(list1[i])\n",
    "        i=i+1\n",
    "    while(j<n2):\n",
    "        ans.append(list2[j])\n",
    "        j=j+1\n",
    "    return ans"
   ]
  },
  {
   "cell_type": "markdown",
   "id": "f8efc2b7",
   "metadata": {},
   "source": [
    "### Question 4:\n",
    "Implement a function to find and remove all instances of a given value from a list.\n",
    "\n",
    "*Hint: Use a loop to iterate through the list in reverse order (to avoid skipping elements) and remove elements that match the given value.*"
   ]
  },
  {
   "cell_type": "code",
   "execution_count": 5,
   "id": "8ef94050",
   "metadata": {},
   "outputs": [],
   "source": [
    "def remove_value(list1, value):\n",
    "    # your code here\n",
    "    # pass\n",
    "    i=0\n",
    "    while i<len(list1):\n",
    "        if list1[i]==value:\n",
    "            list1.pop(i)\n",
    "        else:\n",
    "            i=i+1\n",
    "    return list1"
   ]
  },
  {
   "cell_type": "markdown",
   "id": "d01f7b3f",
   "metadata": {},
   "source": [
    "### Question 5:\n",
    "A finance application requires a function to categorize monthly expenses into groups like 'Rent', 'Groceries', etc., and sum the expenses in each category.\n",
    "\n",
    "*Hint: Use a dictionary to map categories to their sums. Iterate over the list of expenses, adding each amount to its category's sum.*"
   ]
  },
  {
   "cell_type": "code",
   "execution_count": 6,
   "id": "61f0d965",
   "metadata": {},
   "outputs": [],
   "source": [
    "def categorize_expenses(expenses):\n",
    "    # your code here\n",
    "    pass"
   ]
  },
  {
   "cell_type": "markdown",
   "id": "7b4b16ed",
   "metadata": {},
   "source": [
    "### Question 6:\n",
    "Write a function that takes a list of employee names and returns a list of initials.\n",
    "\n",
    "*Hint: Split each name into parts, then loop over the parts to concatenate the first character of each part into a string of initials.*"
   ]
  },
  {
   "cell_type": "code",
   "execution_count": 7,
   "id": "a547f4a5",
   "metadata": {},
   "outputs": [],
   "source": [
    "def get_initials(names):\n",
    "    # your code here\n",
    "    # pass\n",
    "    initials=[]\n",
    "    for i in names:\n",
    "        res=i.split(' ')\n",
    "        if len(res)==1:\n",
    "            res.append(' ')\n",
    "        initials.append(res[0][0]+' '+res[1][0])\n",
    "    return initials"
   ]
  },
  {
   "cell_type": "markdown",
   "id": "f0c7ffd4",
   "metadata": {},
   "source": [
    "### Question 7:\n",
    "Create a function to filter out all negative numbers from a list of temperatures, returning only the days with positive temperatures.\n",
    "\n",
    "*Hint: Use a loop or list comprehension to create a new list with only the positive temperatures.*"
   ]
  },
  {
   "cell_type": "code",
   "execution_count": 8,
   "id": "ba6ee4e5",
   "metadata": {},
   "outputs": [],
   "source": [
    "def filter_positive_temperatures(temperatures):\n",
    "    # your code here\n",
    "    # pass\n",
    "    i=0\n",
    "    while(i<len(temperatures)):\n",
    "        if temperatures[i]<0:\n",
    "            temperatures.pop(i)\n",
    "        else:\n",
    "            i=i+1\n",
    "    return temperatures"
   ]
  },
  {
   "cell_type": "markdown",
   "id": "756b2a47",
   "metadata": {},
   "source": [
    "### Question 8:\n",
    "Given a list of products (as dictionaries with name and price), write a function to increase the price of all products by a given percentage.\n",
    "\n",
    "*Hint: Loop over the list, accessing each dictionary and updating the price based on the percentage increase.*"
   ]
  },
  {
   "cell_type": "code",
   "execution_count": 9,
   "id": "5c1c70b4",
   "metadata": {},
   "outputs": [],
   "source": [
    "def increase_product_prices(products, percentage):\n",
    "    # your code here\n",
    "    # pass\n",
    "    for i,_ in products.items:\n",
    "        products[i]=products[i]+(products[i]*0.01*percentage)\n",
    "    return products"
   ]
  },
  {
   "cell_type": "markdown",
   "id": "eaa36c71",
   "metadata": {},
   "source": [
    "### Question 9:\n",
    "Implement a function that takes a list of strings (words) and returns a dictionary with each unique word as a key and its frequency as the value.\n",
    "\n",
    "*Hint: Use a loop to iterate over the list, adding words to the dictionary or updating their counts.*"
   ]
  },
  {
   "cell_type": "code",
   "execution_count": 10,
   "id": "5b7dc74d",
   "metadata": {},
   "outputs": [],
   "source": [
    "def word_frequencies(words):\n",
    "    # your code here\n",
    "    # pass\n",
    "    ans = {}\n",
    "    for word in words:\n",
    "        try:\n",
    "            ans[word]=ans[word]+1\n",
    "        except:\n",
    "            ans[word]=1\n",
    "    return ans"
   ]
  },
  {
   "cell_type": "code",
   "execution_count": 11,
   "id": "23ef5635-ad86-4d27-8e6d-6fcde5f37a5f",
   "metadata": {},
   "outputs": [
    {
     "data": {
      "text/plain": [
       "{'anuj': 3, 'akahs': 2, 'ashish': 1}"
      ]
     },
     "execution_count": 11,
     "metadata": {},
     "output_type": "execute_result"
    }
   ],
   "source": [
    "word_frequencies(['anuj','anuj','akahs','ashish','akahs','anuj'])"
   ]
  },
  {
   "cell_type": "markdown",
   "id": "dbc7252a",
   "metadata": {},
   "source": [
    "### Question 10:\n",
    "Write a function that removes duplicates from a list without using set.\n",
    "\n",
    "*Hint: Create a new list. Use a loop to add elements to the new list only if they are not already present.*"
   ]
  },
  {
   "cell_type": "code",
   "execution_count": 12,
   "id": "917ea7e3",
   "metadata": {},
   "outputs": [],
   "source": [
    "def remove_duplicates(l1):\n",
    "    # your code here\n",
    "    # pass\n",
    "    ans=[]\n",
    "    for i in l1:\n",
    "        if i not in ans:\n",
    "            ans.append(i)\n",
    "    return ans"
   ]
  },
  {
   "cell_type": "code",
   "execution_count": null,
   "id": "b60b0eae-44fb-4900-b676-c8079ab1a4d2",
   "metadata": {},
   "outputs": [],
   "source": []
  }
 ],
 "metadata": {
  "kernelspec": {
   "display_name": "Python 3 (ipykernel)",
   "language": "python",
   "name": "python3"
  },
  "language_info": {
   "codemirror_mode": {
    "name": "ipython",
    "version": 3
   },
   "file_extension": ".py",
   "mimetype": "text/x-python",
   "name": "python",
   "nbconvert_exporter": "python",
   "pygments_lexer": "ipython3",
   "version": "3.13.1"
  }
 },
 "nbformat": 4,
 "nbformat_minor": 5
}
