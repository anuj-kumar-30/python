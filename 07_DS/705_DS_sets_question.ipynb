{
 "cells": [
  {
   "cell_type": "markdown",
   "metadata": {},
   "source": [
    "### Question 1: Write a function to remove duplicates from a list and return the unique elements as a set.\n",
    "Hint: Convert the list to a set directly to remove duplicates, as sets do not allow duplicate elements."
   ]
  },
  {
   "cell_type": "code",
   "execution_count": 1,
   "metadata": {},
   "outputs": [
    {
     "name": "stdout",
     "output_type": "stream",
     "text": [
      "[1, 2, 3, 4, 5, 6, 7, 8, 9, 10]\n"
     ]
    }
   ],
   "source": [
    "def remove_duplicates(lst):\n",
    "    return list(set(lst))\n",
    "\n",
    "print(remove_duplicates([1, 2, 3, 4, 5, 6, 7, 8, 9, 10, 1, 2, 3, 4, 5, 6, 7, 8, 9, 10]))"
   ]
  },
  {
   "cell_type": "markdown",
   "metadata": {},
   "source": [
    "\n",
    "### Question 2: Implement a function that takes two sets of product IDs from two different stores and finds the common IDs.\n",
    "Hint: Use the intersection method or the & operator to find common elements between two sets."
   ]
  },
  {
   "cell_type": "code",
   "execution_count": 2,
   "metadata": {},
   "outputs": [
    {
     "name": "stdout",
     "output_type": "stream",
     "text": [
      "{1, 2, 3, 4, 5, 6, 7, 8, 9, 10}\n"
     ]
    }
   ],
   "source": [
    "def find_common_ids(set1, set2):\n",
    "    return set1 & set2\n",
    "\n",
    "print(find_common_ids({1, 2, 3, 4, 5, 6, 7, 8, 9, 10}, {1, 2, 3, 4, 5, 6, 7, 8, 9, 10}))"
   ]
  },
  {
   "cell_type": "markdown",
   "metadata": {},
   "source": [
    "### Question 3: Create a function to determine if a set is a subset of another set.\n",
    "Hint: Use the issubset method to check if one set is a subset of another."
   ]
  },
  {
   "cell_type": "code",
   "execution_count": 1,
   "metadata": {},
   "outputs": [
    {
     "name": "stdout",
     "output_type": "stream",
     "text": [
      "False\n"
     ]
    }
   ],
   "source": [
    "def is_subset(set1, set2):\n",
    "    return set1.issubset(set2)\n",
    "\n",
    "print(is_subset({1, 2, 3, 4, 5, 6, 7, 8, 9, 10}, {1, 2, 3, 4, 5, 6, 7, 8, 9, 11}))\n"
   ]
  },
  {
   "cell_type": "markdown",
   "metadata": {},
   "source": [
    "### Question 4: Write a function that takes a string and returns a set of unique characters in the string.\n",
    "Hint: Convert the string to a set to automatically remove duplicate characters."
   ]
  },
  {
   "cell_type": "code",
   "execution_count": 5,
   "metadata": {},
   "outputs": [
    {
     "data": {
      "text/plain": [
       "{'a', 'j', 'n', 'u'}"
      ]
     },
     "execution_count": 5,
     "metadata": {},
     "output_type": "execute_result"
    }
   ],
   "source": [
    "def uniqueChar(str1):\n",
    "    return set(list(str1))\n",
    "uniqueChar('anuj')"
   ]
  },
  {
   "cell_type": "markdown",
   "metadata": {},
   "source": [
    "### Question 5: Develop a function that takes a list of sets representing skills required for different projects and finds the union of all skills.\n",
    "Hint: Use the union method or the | operator to find the union of all sets in the list."
   ]
  },
  {
   "cell_type": "code",
   "execution_count": 9,
   "metadata": {},
   "outputs": [
    {
     "data": {
      "text/plain": [
       "{1, 2, 3, 4, 5, 6, 7, 8, 9, 10}"
      ]
     },
     "execution_count": 9,
     "metadata": {},
     "output_type": "execute_result"
    }
   ],
   "source": [
    "def unionOfSets(lst):\n",
    "    ans = lst[0]\n",
    "    for s in lst:\n",
    "        ans = ans.union(s)\n",
    "    return ans\n",
    "\n",
    "unionOfSets([{1,2,3,4,5}, {3,4,5,6,7}, {7,8,9,10,2}])"
   ]
  },
  {
   "cell_type": "code",
   "execution_count": 8,
   "metadata": {},
   "outputs": [
    {
     "data": {
      "text/plain": [
       "{1, 2, 3, 4, 5, 6, 7, 8}"
      ]
     },
     "execution_count": 8,
     "metadata": {},
     "output_type": "execute_result"
    }
   ],
   "source": [
    "{1,2,3,4,5}.union({3,4,5,6,7,8})"
   ]
  },
  {
   "cell_type": "markdown",
   "metadata": {},
   "source": [
    "### Question 6: Implement a function to compare two sets and return a set of elements present in the first set but not in the second.\n",
    "Hint: Use the difference method or the - operator to find elements unique to the first set."
   ]
  },
  {
   "cell_type": "code",
   "execution_count": 10,
   "metadata": {},
   "outputs": [
    {
     "data": {
      "text/plain": [
       "{1, 2, 3}"
      ]
     },
     "execution_count": 10,
     "metadata": {},
     "output_type": "execute_result"
    }
   ],
   "source": [
    "def compareSets(set1, set2):\n",
    "    return set1-set2\n",
    "compareSets({1,2,3,4,6}, {4,5,6,7})"
   ]
  },
  {
   "cell_type": "markdown",
   "metadata": {},
   "source": [
    "### Question 7: Create a function that updates a set with elements from a list, ignoring any duplicates.\n",
    "Hint: Use the update method to add elements from the list to the set, which will automatically ignore duplicates."
   ]
  },
  {
   "cell_type": "code",
   "execution_count": 20,
   "metadata": {},
   "outputs": [
    {
     "name": "stdout",
     "output_type": "stream",
     "text": [
      "{1, 2, 3, 4, 5, 6}\n"
     ]
    }
   ],
   "source": [
    "def updateSet(set1, lst):\n",
    "    set1.update(set(lst))\n",
    "    return set1\n",
    "print(updateSet({1,2,3,4,5}, [2,3,4,5,6]))"
   ]
  },
  {
   "cell_type": "code",
   "execution_count": 17,
   "metadata": {},
   "outputs": [],
   "source": [
    "set1={1,2,3,4,5}\n",
    "lst=[2,3,4,5,6]\n",
    "set1.update(lst)"
   ]
  },
  {
   "cell_type": "markdown",
   "metadata": {},
   "source": [
    "### Question 8: Write a function that accepts a set of names and sanitizes them by removing any whitespace and converting them to lowercase.\n",
    "Hint: Iterate over the set, apply the strip and lower methods to each element, and store the results in a new set."
   ]
  },
  {
   "cell_type": "code",
   "execution_count": 23,
   "metadata": {},
   "outputs": [
    {
     "data": {
      "text/plain": [
       "{'anuj kumar'}"
      ]
     },
     "execution_count": 23,
     "metadata": {},
     "output_type": "execute_result"
    }
   ],
   "source": [
    "def sanitizesNames(set1):\n",
    "    return {name.strip().lower() for name in set1}\n",
    "sanitizesNames({'anuj kumar'})"
   ]
  },
  {
   "cell_type": "markdown",
   "metadata": {},
   "source": [
    "### Question 9: Develop a function that takes a set of email addresses and filters out invalid ones based on a list of valid domains.\n",
    "Hint: Use a loop or set comprehension with a conditional to check the domain of each email against the valid domains."
   ]
  },
  {
   "cell_type": "code",
   "execution_count": null,
   "metadata": {},
   "outputs": [],
   "source": []
  }
 ],
 "metadata": {
  "kernelspec": {
   "display_name": "Python 3",
   "language": "python",
   "name": "python3"
  },
  "language_info": {
   "codemirror_mode": {
    "name": "ipython",
    "version": 3
   },
   "file_extension": ".py",
   "mimetype": "text/x-python",
   "name": "python",
   "nbconvert_exporter": "python",
   "pygments_lexer": "ipython3",
   "version": "3.13.1"
  }
 },
 "nbformat": 4,
 "nbformat_minor": 2
}
