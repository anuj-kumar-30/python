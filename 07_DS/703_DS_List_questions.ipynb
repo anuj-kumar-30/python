{
 "cells": [
  {
   "cell_type": "markdown",
   "metadata": {},
   "source": [
    "### Question 1: An online retailer needs a function to filter out all orders below a certain amount. Write this function.\n",
    "Hint: Iterate over the list of orders and use a conditional statement to add orders above the threshold to a new list."
   ]
  },
  {
   "cell_type": "code",
   "execution_count": 1,
   "metadata": {},
   "outputs": [],
   "source": [
    "def orderFilter(orders, threshold):\n",
    "    filtered_order=[]\n",
    "    for i in orders:\n",
    "        if i>threshold:\n",
    "            filtered_order.append(i)\n",
    "    return filtered_order"
   ]
  },
  {
   "cell_type": "markdown",
   "metadata": {},
   "source": [
    "### Question 2: A sports analytics company wants a function that finds the maximum score from a list of player scores.\n",
    "Hint: Use a loop to iterate through the scores and keep track of the highest score found."
   ]
  },
  {
   "cell_type": "code",
   "execution_count": 2,
   "metadata": {},
   "outputs": [],
   "source": [
    "def maxScore(scores):\n",
    "    ans=(2**63-1)*-1\n",
    "    for i in scores:\n",
    "        if ans>i:\n",
    "            ans=i\n",
    "    return ans"
   ]
  },
  {
   "cell_type": "code",
   "execution_count": 3,
   "metadata": {},
   "outputs": [],
   "source": [
    "def maxScore2(scores):\n",
    "    ans=scores[0]\n",
    "    for i in scores:\n",
    "        ans = max(ans,i)\n",
    "    return ans"
   ]
  },
  {
   "cell_type": "markdown",
   "metadata": {},
   "source": [
    "### Question 3: Create a function that normalizes a list of temperatures to a scale of 0 to 100.\n",
    "Hint: Find the max and min values in the list, then use these to normalize the temperatures."
   ]
  },
  {
   "cell_type": "markdown",
   "metadata": {},
   "source": [
    "zi = (xi – min(x)) / (max(x) – min(x)) * 100\n",
    "\n",
    "where:\n",
    "\n",
    "    zi: The ith normalized value in the dataset\n",
    "    xi: The ith value in the dataset\n",
    "    min(x): The minimum value in the dataset\n",
    "    max(x): The maximum value in the dataset\n"
   ]
  },
  {
   "cell_type": "code",
   "execution_count": 4,
   "metadata": {},
   "outputs": [],
   "source": [
    "def tempNormalization(temp):\n",
    "    mn = min(temp)\n",
    "    mx = max(temp)\n",
    "    for i in range(temp):\n",
    "        temp[i]=((temp[i]-mn)/(mx-mn))*100\n",
    "    return temp"
   ]
  },
  {
   "cell_type": "markdown",
   "metadata": {},
   "source": [
    "### Question 4: Implement a function for a restaurant to calculate the total bill from a list of prices and apply a given discount.\n",
    "Hint: Sum the list of prices, then apply the discount to calculate the total bill."
   ]
  },
  {
   "cell_type": "code",
   "execution_count": 8,
   "metadata": {},
   "outputs": [],
   "source": [
    "def discountTotal(prices, discount):\n",
    "    sm = sum(prices)\n",
    "    dis = 0.01*discount\n",
    "    ans = sm - (sm*dis)\n",
    "    return ans"
   ]
  },
  {
   "cell_type": "code",
   "execution_count": 9,
   "metadata": {},
   "outputs": [
    {
     "data": {
      "text/plain": [
       "90.0"
      ]
     },
     "execution_count": 9,
     "metadata": {},
     "output_type": "execute_result"
    }
   ],
   "source": [
    "discountTotal([100,0], 10)"
   ]
  },
  {
   "cell_type": "markdown",
   "metadata": {},
   "source": [
    "### Question 5: A music app needs a function to shuffle a playlist. Write a function that rearranges the songs in a list in a random order.\n",
    "Hint: Use the random module's shuffle method to rearrange the list items."
   ]
  },
  {
   "cell_type": "code",
   "execution_count": 10,
   "metadata": {},
   "outputs": [],
   "source": [
    "music = ['m1', 'm2', 'm3']\n",
    "import random"
   ]
  },
  {
   "cell_type": "code",
   "execution_count": 14,
   "metadata": {},
   "outputs": [
    {
     "data": {
      "text/plain": [
       "['m1', 'm3', 'm2']"
      ]
     },
     "execution_count": 14,
     "metadata": {},
     "output_type": "execute_result"
    }
   ],
   "source": [
    "random.shuffle(music)\n",
    "music"
   ]
  },
  {
   "cell_type": "code",
   "execution_count": 15,
   "metadata": {},
   "outputs": [],
   "source": [
    "import random\n",
    "def shufflePlaylist(musics):\n",
    "    return random.shuffle(musics)"
   ]
  },
  {
   "cell_type": "markdown",
   "metadata": {},
   "source": [
    "### Question 6: Write a function that takes a list of words and an integer n, and returns a list of words that are longer than n.\n",
    "Hint: Use list comprehension or a loop with a conditional to filter the words."
   ]
  },
  {
   "cell_type": "code",
   "execution_count": 16,
   "metadata": {},
   "outputs": [],
   "source": [
    "def updatedWordsList(words, n):\n",
    "    ans = []\n",
    "    for i in words:\n",
    "        if len(i)>n:\n",
    "            ans.append(i)\n",
    "    return ans"
   ]
  },
  {
   "cell_type": "markdown",
   "metadata": {},
   "source": [
    "### Question 7: A survey data processing function needs to remove all instances of 'N/A' or 'None' values from the dataset.\n",
    "Hint: Iterate through the list in reverse to safely remove unwanted values without skipping elements."
   ]
  },
  {
   "cell_type": "code",
   "execution_count": 17,
   "metadata": {},
   "outputs": [],
   "source": [
    "def removeNULL(data):\n",
    "    i=0\n",
    "    while(i<len(data)):\n",
    "        if data[i]=='N/A' or data[i]=='None':\n",
    "            data.pop(i)\n",
    "        else:\n",
    "            i=i+1\n",
    "    return data"
   ]
  },
  {
   "cell_type": "markdown",
   "metadata": {},
   "source": [
    "### Question 8: Create a function that merges two lists of sorted numbers into a single sorted list without using the sort method.\n",
    "Hint: Use two pointers to iterate through the lists, adding the smaller current element to a new list."
   ]
  },
  {
   "cell_type": "code",
   "execution_count": 18,
   "metadata": {},
   "outputs": [],
   "source": [
    "def mergeArray(arr1, arr2):\n",
    "    (i, j, n1, n2)=(0, 0, len(arr1), len(arr2))\n",
    "    ans=[]\n",
    "    while (i<n1) and j<n2:\n",
    "        if arr1[i]<arr2[j]:\n",
    "            ans.append(arr1[i])\n",
    "            i=i+1\n",
    "        elif arr1[i]>arr2[j]:\n",
    "            ans.append(arr2[j])\n",
    "            j=j+1\n",
    "        else:\n",
    "            ans.append(arr1[i])\n",
    "            i=i+1\n",
    "            j=j+1\n",
    "    while i<n1:\n",
    "        ans.append(arr1[i])\n",
    "        i=i+1\n",
    "    while j<n2:\n",
    "        ans.append(arr2[j])\n",
    "        j=j+1\n",
    "    return ans"
   ]
  },
  {
   "cell_type": "markdown",
   "metadata": {},
   "source": [
    "### Question 9: A finance tool requires a function to categorize expenses into 'High', 'Medium', and 'Low' based on predefined thresholds.\n",
    "Hint: Use loops and conditionals to test each expense against the thresholds and append it to the correct category list."
   ]
  },
  {
   "cell_type": "code",
   "execution_count": null,
   "metadata": {},
   "outputs": [],
   "source": []
  },
  {
   "cell_type": "markdown",
   "metadata": {},
   "source": [
    "### Question 10: Write a function that generates a list of unique random numbers given a range and the number of elements.\n",
    "Hint: Use a loop and the random module to generate numbers, ensuring uniqueness before adding to the list."
   ]
  },
  {
   "cell_type": "code",
   "execution_count": null,
   "metadata": {},
   "outputs": [],
   "source": []
  }
 ],
 "metadata": {
  "kernelspec": {
   "display_name": "Python 3",
   "language": "python",
   "name": "python3"
  },
  "language_info": {
   "codemirror_mode": {
    "name": "ipython",
    "version": 3
   },
   "file_extension": ".py",
   "mimetype": "text/x-python",
   "name": "python",
   "nbconvert_exporter": "python",
   "pygments_lexer": "ipython3",
   "version": "3.12.8"
  }
 },
 "nbformat": 4,
 "nbformat_minor": 2
}
