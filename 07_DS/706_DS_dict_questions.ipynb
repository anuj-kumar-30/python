{
 "cells": [
  {
   "cell_type": "markdown",
   "metadata": {},
   "source": [
    "### Question 1: Write a function to count the frequency of words in a given string and return the result as a dictionary.\n",
    "Hint: Split the string into words, then use a loop to count each word's occurrences. Store the counts in a dictionary."
   ]
  },
  {
   "cell_type": "code",
   "execution_count": 1,
   "metadata": {},
   "outputs": [
    {
     "name": "stdout",
     "output_type": "stream",
     "text": [
      "{'hello': 2, 'world': 1}\n"
     ]
    }
   ],
   "source": [
    "def count_words(s):\n",
    "    words = s.split(' ')\n",
    "    d = dict.fromkeys(words, 0)\n",
    "    for word in words:\n",
    "        d[word] += 1\n",
    "    return d\n",
    "\n",
    "print(count_words('hello world hello'))"
   ]
  },
  {
   "cell_type": "markdown",
   "metadata": {},
   "source": [
    "### Question 2: Create a function that merges two dictionaries into one, where values from the second dictionary overwrite those from the first.\n",
    "Hint: Use the update method or dictionary unpacking to merge the dictionaries."
   ]
  },
  {
   "cell_type": "code",
   "execution_count": null,
   "metadata": {},
   "outputs": [],
   "source": []
  }
 ],
 "metadata": {
  "kernelspec": {
   "display_name": "Python 3",
   "language": "python",
   "name": "python3"
  },
  "language_info": {
   "codemirror_mode": {
    "name": "ipython",
    "version": 3
   },
   "file_extension": ".py",
   "mimetype": "text/x-python",
   "name": "python",
   "nbconvert_exporter": "python",
   "pygments_lexer": "ipython3",
   "version": "3.13.1"
  }
 },
 "nbformat": 4,
 "nbformat_minor": 2
}
