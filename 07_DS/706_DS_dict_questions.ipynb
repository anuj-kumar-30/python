{
 "cells": [
  {
   "cell_type": "markdown",
   "metadata": {},
   "source": [
    "### Question 1: Write a function to count the frequency of words in a given string and return the result as a dictionary.\n",
    "Hint: Split the string into words, then use a loop to count each word's occurrences. Store the counts in a dictionary."
   ]
  },
  {
   "cell_type": "code",
   "execution_count": 1,
   "metadata": {},
   "outputs": [
    {
     "name": "stdout",
     "output_type": "stream",
     "text": [
      "{'hello': 2, 'world': 1}\n"
     ]
    }
   ],
   "source": [
    "def count_words(s):\n",
    "    words = s.split(' ')\n",
    "    d = dict.fromkeys(words, 0)\n",
    "    for word in words:\n",
    "        d[word] += 1\n",
    "    return d\n",
    "\n",
    "print(count_words('hello world hello'))"
   ]
  },
  {
   "cell_type": "markdown",
   "metadata": {},
   "source": [
    "### Question 2: Create a function that merges two dictionaries into one, where values from the second dictionary overwrite those from the first.\n",
    "Hint: Use the update method or dictionary unpacking to merge the dictionaries."
   ]
  },
  {
   "cell_type": "code",
   "execution_count": 3,
   "metadata": {},
   "outputs": [
    {
     "name": "stdout",
     "output_type": "stream",
     "text": [
      "{'a': 1, 'b': 3, 'c': 4}\n"
     ]
    }
   ],
   "source": [
    "def mergeDict(dict1, dict2):\n",
    "    for key,value in dict2.items():\n",
    "        dict1[key]=value\n",
    "    return dict1\n",
    "dict1 = {'a': 1, 'b': 2}\n",
    "dict2 = {'b': 3, 'c': 4}\n",
    "print(mergeDict(dict1, dict2))\n"
   ]
  },
  {
   "cell_type": "markdown",
   "metadata": {},
   "source": [
    "### Question 3: Implement a function to invert a dictionary, swapping its keys and values.\n",
    "Hint: Use a loop to iterate over the dictionary items and add them inverted to a new dictionary."
   ]
  },
  {
   "cell_type": "code",
   "execution_count": 4,
   "metadata": {},
   "outputs": [
    {
     "name": "stdout",
     "output_type": "stream",
     "text": [
      "{1: 'a', 2: 'b', 3: 'c'}\n"
     ]
    }
   ],
   "source": [
    "def inverDict(dict1):\n",
    "    ans = {}\n",
    "    for i,j in dict1.items():\n",
    "        ans[j]=i\n",
    "    return ans\n",
    "\n",
    "dict1 = {'a': 1, 'b': 2, 'c': 3}\n",
    "print(inverDict(dict1))\n"
   ]
  },
  {
   "cell_type": "markdown",
   "metadata": {},
   "source": [
    "### Question 4: Write a function that takes a dictionary of employee names and their salaries and returns the name of the highest-paid employee.\n",
    "Hint: Iterate over the dictionary to find the maximum salary and track the corresponding employee name."
   ]
  },
  {
   "cell_type": "code",
   "execution_count": 16,
   "metadata": {},
   "outputs": [],
   "source": [
    "def higestSalary(dict1):\n",
    "    name = list(employees.keys())[0]\n",
    "    for emp, sal in dict1.items():\n",
    "        if dict1[emp]>dict1[name]:\n",
    "            name=emp\n",
    "    return (name, dict1[name])\n"
   ]
  },
  {
   "cell_type": "code",
   "execution_count": 17,
   "metadata": {},
   "outputs": [
    {
     "data": {
      "text/plain": [
       "('Sarah', 70000)"
      ]
     },
     "execution_count": 17,
     "metadata": {},
     "output_type": "execute_result"
    }
   ],
   "source": [
    "employees = {\n",
    "    'John': 50000,\n",
    "    'Alice': 65000, \n",
    "    'Bob': 45000,\n",
    "    'Sarah': 70000,\n",
    "    'Mike': 55000\n",
    "}\n",
    "higestSalary(employees)"
   ]
  },
  {
   "cell_type": "markdown",
   "metadata": {},
   "source": [
    "### Question 5: Develop a function that takes a list of tuples (representing orders) and converts it into a dictionary where each key is an order number and its value is the order details.\n",
    "Hint: Loop over the list of tuples, adding each as a key-value pair to a new dictionary.\n",
    "\n"
   ]
  },
  {
   "cell_type": "code",
   "execution_count": 20,
   "metadata": {},
   "outputs": [
    {
     "name": "stdout",
     "output_type": "stream",
     "text": [
      "{1: ('Book', 29.99, 2), 2: ('Laptop', 999.99, 1), 3: ('Coffee Mug', 12.99, 3), 4: ('Headphones', 79.99, 1)}\n"
     ]
    }
   ],
   "source": [
    "def orderToDict(orders):\n",
    "    order_dict = {}\n",
    "    for i, order in enumerate(orders, 1):\n",
    "        order_dict[i] = order\n",
    "    return order_dict\n",
    "\n",
    "# Test the function\n",
    "orders = [\n",
    "    ('Book', 29.99, 2),\n",
    "    ('Laptop', 999.99, 1),\n",
    "    ('Coffee Mug', 12.99, 3),\n",
    "    ('Headphones', 79.99, 1)\n",
    "]\n",
    "print(orderToDict(orders))\n"
   ]
  },
  {
   "cell_type": "markdown",
   "metadata": {},
   "source": [
    "### Question 6: Create a function to filter a dictionary by removing items with values below a specified threshold.\n",
    "Hint: Use a dictionary comprehension or a loop with a conditional to create a filtered dictionary."
   ]
  },
  {
   "cell_type": "code",
   "execution_count": 29,
   "metadata": {},
   "outputs": [],
   "source": [
    "def filterDict(dict1, thershold):\n",
    "    key = list(dict1.keys())\n",
    "    for i in key:\n",
    "        if dict1[i]<thershold:\n",
    "            dict1.pop(i)\n",
    "    return dict1"
   ]
  },
  {
   "cell_type": "code",
   "execution_count": 31,
   "metadata": {},
   "outputs": [
    {
     "name": "stdout",
     "output_type": "stream",
     "text": [
      "Original dictionary: {'A': 100, 'B': 25, 'C': 75, 'D': 15, 'E': 50}\n",
      "Filtered dictionary (threshold=30): {'A': 100, 'C': 75, 'E': 50}\n"
     ]
    }
   ],
   "source": [
    "# Test the filterDict function\n",
    "test_dict = {\n",
    "    'A': 100,\n",
    "    'B': 25,\n",
    "    'C': 75,\n",
    "    'D': 15,\n",
    "    'E': 50\n",
    "}\n",
    "\n",
    "threshold = 30\n",
    "print(f\"Original dictionary: {test_dict}\")\n",
    "filtered = filterDict(test_dict, threshold)\n",
    "print(f\"Filtered dictionary (threshold={threshold}): {filtered}\")\n"
   ]
  },
  {
   "cell_type": "markdown",
   "metadata": {},
   "source": [
    "### Question 7: Implement a function that takes a dictionary of products (keys are product names, values are prices) and applies a discount to all prices.\n",
    "Hint: Iterate over the dictionary, modifying each value to reflect the discount."
   ]
  },
  {
   "cell_type": "code",
   "execution_count": 32,
   "metadata": {},
   "outputs": [],
   "source": [
    "def discountDict(dict1, discount):\n",
    "    for i, j in dict1.items():\n",
    "        dict1[i]=dict1[i]-(dict1[i]*0.01*discount)\n",
    "    return dict1"
   ]
  },
  {
   "cell_type": "code",
   "execution_count": 33,
   "metadata": {},
   "outputs": [
    {
     "name": "stdout",
     "output_type": "stream",
     "text": [
      "Original prices: {'Laptop': 1000, 'Phone': 500, 'Tablet': 300, 'Headphones': 100}\n",
      "Prices after 20% discount: {'Laptop': 800.0, 'Phone': 400.0, 'Tablet': 240.0, 'Headphones': 80.0}\n"
     ]
    }
   ],
   "source": [
    "# Test the discountDict function\n",
    "products = {\n",
    "    'Laptop': 1000,\n",
    "    'Phone': 500,\n",
    "    'Tablet': 300,\n",
    "    'Headphones': 100\n",
    "}\n",
    "\n",
    "discount_percent = 20\n",
    "print(f\"Original prices: {products}\")\n",
    "discounted = discountDict(products, discount_percent)\n",
    "print(f\"Prices after {discount_percent}% discount: {discounted}\")\n"
   ]
  },
  {
   "cell_type": "markdown",
   "metadata": {},
   "source": [
    "### Question 8: Write a function that categorizes a list of words by their first letter, returning a dictionary where each key is a first letter and its value is a list of words starting with that letter.\n",
    "Hint: Use a loop to categorize words into lists, grouped by their starting letter, in a dictionary."
   ]
  },
  {
   "cell_type": "code",
   "execution_count": 42,
   "metadata": {},
   "outputs": [],
   "source": [
    "def intialsDict(words):\n",
    "    # ans = {}\n",
    "    initials = [i[0] for i in words]\n",
    "    ans = dict.fromkeys(initials, [])\n",
    "    print(ans)\n",
    "    for i in words:\n",
    "        print(ans[i[0]], i)\n",
    "        ans[i[0]] = ans[i[0]].append(i)\n",
    "    return ans"
   ]
  },
  {
   "cell_type": "code",
   "execution_count": 43,
   "metadata": {},
   "outputs": [
    {
     "name": "stdout",
     "output_type": "stream",
     "text": [
      "Original list: ['apple', 'banana', 'avocado', 'blueberry', 'cherry', 'carrot']\n",
      "{'a': [], 'b': [], 'c': []}\n",
      "[] apple\n",
      "['apple'] banana\n",
      "None avocado\n"
     ]
    },
    {
     "ename": "AttributeError",
     "evalue": "'NoneType' object has no attribute 'append'",
     "output_type": "error",
     "traceback": [
      "\u001b[0;31m---------------------------------------------------------------------------\u001b[0m",
      "\u001b[0;31mAttributeError\u001b[0m                            Traceback (most recent call last)",
      "Cell \u001b[0;32mIn[43], line 4\u001b[0m\n\u001b[1;32m      2\u001b[0m word_list \u001b[38;5;241m=\u001b[39m [\u001b[38;5;124m'\u001b[39m\u001b[38;5;124mapple\u001b[39m\u001b[38;5;124m'\u001b[39m, \u001b[38;5;124m'\u001b[39m\u001b[38;5;124mbanana\u001b[39m\u001b[38;5;124m'\u001b[39m, \u001b[38;5;124m'\u001b[39m\u001b[38;5;124mavocado\u001b[39m\u001b[38;5;124m'\u001b[39m, \u001b[38;5;124m'\u001b[39m\u001b[38;5;124mblueberry\u001b[39m\u001b[38;5;124m'\u001b[39m, \u001b[38;5;124m'\u001b[39m\u001b[38;5;124mcherry\u001b[39m\u001b[38;5;124m'\u001b[39m, \u001b[38;5;124m'\u001b[39m\u001b[38;5;124mcarrot\u001b[39m\u001b[38;5;124m'\u001b[39m]\n\u001b[1;32m      3\u001b[0m \u001b[38;5;28mprint\u001b[39m(\u001b[38;5;124m\"\u001b[39m\u001b[38;5;124mOriginal list:\u001b[39m\u001b[38;5;124m\"\u001b[39m, word_list)\n\u001b[0;32m----> 4\u001b[0m categorized \u001b[38;5;241m=\u001b[39m \u001b[43mintialsDict\u001b[49m\u001b[43m(\u001b[49m\u001b[43mword_list\u001b[49m\u001b[43m)\u001b[49m\n\u001b[1;32m      5\u001b[0m \u001b[38;5;28mprint\u001b[39m(\u001b[38;5;124m\"\u001b[39m\u001b[38;5;124mCategorized by first letter:\u001b[39m\u001b[38;5;124m\"\u001b[39m, categorized)\n",
      "Cell \u001b[0;32mIn[42], line 8\u001b[0m, in \u001b[0;36mintialsDict\u001b[0;34m(words)\u001b[0m\n\u001b[1;32m      6\u001b[0m \u001b[38;5;28;01mfor\u001b[39;00m i \u001b[38;5;129;01min\u001b[39;00m words:\n\u001b[1;32m      7\u001b[0m     \u001b[38;5;28mprint\u001b[39m(ans[i[\u001b[38;5;241m0\u001b[39m]], i)\n\u001b[0;32m----> 8\u001b[0m     ans[i[\u001b[38;5;241m0\u001b[39m]] \u001b[38;5;241m=\u001b[39m \u001b[43mans\u001b[49m\u001b[43m[\u001b[49m\u001b[43mi\u001b[49m\u001b[43m[\u001b[49m\u001b[38;5;241;43m0\u001b[39;49m\u001b[43m]\u001b[49m\u001b[43m]\u001b[49m\u001b[38;5;241;43m.\u001b[39;49m\u001b[43mappend\u001b[49m(i)\n\u001b[1;32m      9\u001b[0m \u001b[38;5;28;01mreturn\u001b[39;00m ans\n",
      "\u001b[0;31mAttributeError\u001b[0m: 'NoneType' object has no attribute 'append'"
     ]
    }
   ],
   "source": [
    "# Test the intialsDict function\n",
    "word_list = ['apple', 'banana', 'avocado', 'blueberry', 'cherry', 'carrot']\n",
    "print(\"Original list:\", word_list)\n",
    "categorized = intialsDict(word_list)\n",
    "print(\"Categorized by first letter:\", categorized)\n"
   ]
  },
  {
   "cell_type": "code",
   "execution_count": 44,
   "metadata": {},
   "outputs": [
    {
     "name": "stdout",
     "output_type": "stream",
     "text": [
      "Original list: ['apple', 'banana', 'avocado', 'blueberry', 'cherry', 'carrot']\n",
      "Categorized by first letter: {'a': ['apple', 'avocado'], 'b': ['banana', 'blueberry'], 'c': ['cherry', 'carrot']}\n"
     ]
    }
   ],
   "source": [
    "def intialsDict(words):\n",
    "    ans = {}\n",
    "    for word in words:\n",
    "        first_letter = word[0]\n",
    "        if first_letter not in ans:\n",
    "            ans[first_letter] = []\n",
    "        ans[first_letter].append(word)\n",
    "    return ans\n",
    "\n",
    "# Test the intialsDict function\n",
    "word_list = ['apple', 'banana', 'avocado', 'blueberry', 'cherry', 'carrot']\n",
    "print(\"Original list:\", word_list)\n",
    "categorized = intialsDict(word_list)\n",
    "print(\"Categorized by first letter:\", categorized)\n"
   ]
  },
  {
   "cell_type": "markdown",
   "metadata": {},
   "source": [
    "### Question 9: Develop a function that takes a dictionary of courses (keys are course names, values are lists of student names) and returns a dictionary where each student is a key and their value is a list of courses they are taking.\n",
    "Hint: Invert the relationship in the original dictionary, aggregating courses by student name"
   ]
  },
  {
   "cell_type": "code",
   "execution_count": 47,
   "metadata": {},
   "outputs": [],
   "source": [
    "def studentCouresDict(dict1):\n",
    "    ans = {}\n",
    "    for course, names in dict1.items():\n",
    "        for name in names:\n",
    "            if name not in ans:\n",
    "                ans[name]=[]\n",
    "            ans[name].append(course)\n",
    "    return ans"
   ]
  },
  {
   "cell_type": "code",
   "execution_count": 48,
   "metadata": {},
   "outputs": [
    {
     "name": "stdout",
     "output_type": "stream",
     "text": [
      "Original course dictionary:\n",
      "{'Math': ['Alice', 'Bob', 'Charlie'], 'Physics': ['Bob', 'Charlie', 'David'], 'Chemistry': ['Alice', 'Charlie'], 'Biology': ['David', 'Eve']}\n",
      "\n",
      "Students and their courses:\n",
      "{'Alice': ['Math', 'Chemistry'], 'Bob': ['Math', 'Physics'], 'Charlie': ['Math', 'Physics', 'Chemistry'], 'David': ['Physics', 'Biology'], 'Eve': ['Biology']}\n"
     ]
    }
   ],
   "source": [
    "# Test the studentCouresDict function\n",
    "courses = {\n",
    "    'Math': ['Alice', 'Bob', 'Charlie'],\n",
    "    'Physics': ['Bob', 'Charlie', 'David'],\n",
    "    'Chemistry': ['Alice', 'Charlie'],\n",
    "    'Biology': ['David', 'Eve']\n",
    "}\n",
    "\n",
    "print(\"Original course dictionary:\")\n",
    "print(courses)\n",
    "print(\"\\nStudents and their courses:\")\n",
    "student_courses = studentCouresDict(courses)\n",
    "print(student_courses)\n"
   ]
  },
  {
   "cell_type": "markdown",
   "metadata": {},
   "source": [
    "### Question 10: Create a function that accepts a dictionary representing a network graph (keys are node names, values are lists of connected nodes) and returns a list of all nodes reachable from a given starting node.\n",
    "Hint: Use a recursive function or a loop with a stack/queue to traverse the graph and collect reachable nodes."
   ]
  },
  {
   "cell_type": "code",
   "execution_count": 49,
   "metadata": {},
   "outputs": [],
   "source": [
    "# not learned graph stack/queue"
   ]
  },
  {
   "cell_type": "code",
   "execution_count": null,
   "metadata": {},
   "outputs": [],
   "source": []
  }
 ],
 "metadata": {
  "kernelspec": {
   "display_name": "Python 3",
   "language": "python",
   "name": "python3"
  },
  "language_info": {
   "codemirror_mode": {
    "name": "ipython",
    "version": 3
   },
   "file_extension": ".py",
   "mimetype": "text/x-python",
   "name": "python",
   "nbconvert_exporter": "python",
   "pygments_lexer": "ipython3",
   "version": "3.13.1"
  }
 },
 "nbformat": 4,
 "nbformat_minor": 2
}
