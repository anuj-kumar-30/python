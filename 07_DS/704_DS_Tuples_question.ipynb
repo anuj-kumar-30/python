{
 "cells": [
  {
   "cell_type": "markdown",
   "metadata": {
    "vscode": {
     "languageId": "plaintext"
    }
   },
   "source": [
    "### Question 1: Write a function that takes a tuple of numbers and returns the sum and average as a tuple.\n",
    "Hint: Iterate over the tuple to calculate the sum, then compute the average using the sum and the length of the tuple."
   ]
  },
  {
   "cell_type": "code",
   "execution_count": 5,
   "metadata": {},
   "outputs": [],
   "source": [
    "def discreteStat(numbers):\n",
    "    return (sum(numbers), sum(numbers)/len(numbers))"
   ]
  },
  {
   "cell_type": "code",
   "execution_count": 6,
   "metadata": {},
   "outputs": [
    {
     "data": {
      "text/plain": [
       "(30, 15.0)"
      ]
     },
     "execution_count": 6,
     "metadata": {},
     "output_type": "execute_result"
    }
   ],
   "source": [
    "discreteStat([10,20])"
   ]
  },
  {
   "cell_type": "markdown",
   "metadata": {},
   "source": [
    "### Question 2: Create a function to convert a list of names into a tuple of names that start with a certain letter.\n",
    "Hint: Use a loop or list comprehension with a conditional to filter names, then convert the result to a tuple."
   ]
  },
  {
   "cell_type": "code",
   "execution_count": 11,
   "metadata": {},
   "outputs": [],
   "source": [
    "def filterNames(names, intial):\n",
    "    ans = ()\n",
    "    for i in names:\n",
    "        if i[0]==str.lower(intial) or i[0]==str.upper(intial):\n",
    "            ans.append(i)\n",
    "    return ans"
   ]
  },
  {
   "cell_type": "code",
   "execution_count": 12,
   "metadata": {},
   "outputs": [
    {
     "data": {
      "text/plain": [
       "'ANJ'"
      ]
     },
     "execution_count": 12,
     "metadata": {},
     "output_type": "execute_result"
    }
   ],
   "source": [
    "# upper_case('anuj')\n",
    "str.upper('anj')"
   ]
  },
  {
   "cell_type": "markdown",
   "metadata": {},
   "source": [
    "### Question 3: Implement a function that takes a tuple of coordinates and returns a tuple with them scaled by a factor.\n",
    "Hint: Use a loop or tuple comprehension to multiply each coordinate by the factor.\n",
    "\n"
   ]
  },
  {
   "cell_type": "code",
   "execution_count": null,
   "metadata": {},
   "outputs": [],
   "source": []
  },
  {
   "cell_type": "markdown",
   "metadata": {},
   "source": [
    "### Question 4: Write a function that merges two tuples of equal length into a tuple of pairs.\n",
    "Hint: Use the zip function to pair elements from both tuples, then convert the result to a tuple."
   ]
  },
  {
   "cell_type": "code",
   "execution_count": 15,
   "metadata": {},
   "outputs": [],
   "source": [
    "def tupleOfPair(tup1, tup2):\n",
    "    return tuple(zip(tup1,tup2))"
   ]
  },
  {
   "cell_type": "code",
   "execution_count": 16,
   "metadata": {},
   "outputs": [
    {
     "data": {
      "text/plain": [
       "((2, 3), (3, 4), (4, 5))"
      ]
     },
     "execution_count": 16,
     "metadata": {},
     "output_type": "execute_result"
    }
   ],
   "source": [
    "tupleOfPair((2,3,4),(3,4,5))"
   ]
  },
  {
   "cell_type": "markdown",
   "metadata": {},
   "source": [
    "### Question 5: Develop a function that searches for a given element in a tuple and returns its index or -1 if not found.\n",
    "Hint: Iterate over the tuple with enumerate to find the element and its index."
   ]
  },
  {
   "cell_type": "code",
   "execution_count": 17,
   "metadata": {},
   "outputs": [],
   "source": [
    "def searchElement(tp, ele):\n",
    "    for i in range(len(tp)):\n",
    "        if tp[i]==ele:\n",
    "            return i\n",
    "    return -1"
   ]
  },
  {
   "cell_type": "markdown",
   "metadata": {},
   "source": [
    "### Question 6: Create a function to count the occurrences of all items in a tuple and return a dictionary with item-frequency pairs.\n",
    "Hint: Use a loop to iterate over the tuple and a dictionary to track the frequency of each item."
   ]
  },
  {
   "cell_type": "code",
   "execution_count": 20,
   "metadata": {},
   "outputs": [
    {
     "data": {
      "text/plain": [
       "{1: 1, 2: 1, 3: 1, 4: 1, 23: 1, 5: 1}"
      ]
     },
     "execution_count": 20,
     "metadata": {},
     "output_type": "execute_result"
    }
   ],
   "source": [
    "tp = (1,2,1,2,3,4,23,4,5,3,3,4,5,4)\n",
    "dict.fromkeys(tp, 1)"
   ]
  },
  {
   "cell_type": "code",
   "execution_count": 21,
   "metadata": {},
   "outputs": [],
   "source": [
    "def countFreq(tp):\n",
    "    ans = dict.fromkeys(tp,0)\n",
    "    for i in tp:\n",
    "        ans[i]=ans[i]+1\n",
    "    return ans"
   ]
  },
  {
   "cell_type": "code",
   "execution_count": 22,
   "metadata": {},
   "outputs": [
    {
     "data": {
      "text/plain": [
       "{1: 2, 2: 2, 3: 3, 4: 4, 23: 1, 5: 2}"
      ]
     },
     "execution_count": 22,
     "metadata": {},
     "output_type": "execute_result"
    }
   ],
   "source": [
    "countFreq(tp)"
   ]
  },
  {
   "cell_type": "markdown",
   "metadata": {},
   "source": [
    "### Question 7: Implement a function that takes a tuple of tuples (representing points) and calculates the distance from the origin for each, returning a tuple of distances.\n",
    "Hint: Calculate the distance for each point using the Pythagorean theorem and store the results in a tuple."
   ]
  },
  {
   "cell_type": "code",
   "execution_count": 23,
   "metadata": {},
   "outputs": [],
   "source": [
    "def distance(tp):\n",
    "    ans=()\n",
    "    for i in tp:\n",
    "        ans.append((i[0]**2+i[1]**2)**0.5)\n",
    "    return ans"
   ]
  },
  {
   "cell_type": "markdown",
   "metadata": {},
   "source": [
    "### Question 8: Write a function that filters out non-numeric types from a tuple and returns a new tuple of only numeric types.\n",
    "Hint: Use a loop with a conditional check for numeric types (int, float) and accumulate the numeric values in a new tuple.\n",
    "\n"
   ]
  },
  {
   "cell_type": "code",
   "execution_count": 24,
   "metadata": {},
   "outputs": [],
   "source": [
    "def filterNumbers(tp):\n",
    "    pass"
   ]
  },
  {
   "cell_type": "markdown",
   "metadata": {},
   "source": [
    "### Question 9: Develop a function that accepts a tuple of strings and concatenates them into a single string, separated by a specific separator.\n",
    "Hint: Iterate over the tuple to concatenate the strings, adding the separator between each element.\n",
    "\n"
   ]
  },
  {
   "cell_type": "code",
   "execution_count": null,
   "metadata": {},
   "outputs": [],
   "source": [
    "def tupleToString(tp, sep):\n",
    "    ans = \"\"\n",
    "    for i in tp:\n",
    "        ans = ans + sep + i\n",
    "    return ans"
   ]
  },
  {
   "cell_type": "markdown",
   "metadata": {},
   "source": [
    "### Question 10: Create a function that takes multiple tuples, each representing a 2D point, and returns a tuple of points that are within a circle of a given radius centered at the origin.\n",
    "Hint: Use a loop to iterate over the points and include only those whose distance from the origin is within the specified radius."
   ]
  },
  {
   "cell_type": "code",
   "execution_count": null,
   "metadata": {},
   "outputs": [],
   "source": [
    "def filterTuple(*tp):\n",
    "    pass"
   ]
  }
 ],
 "metadata": {
  "kernelspec": {
   "display_name": "Python 3",
   "language": "python",
   "name": "python3"
  },
  "language_info": {
   "codemirror_mode": {
    "name": "ipython",
    "version": 3
   },
   "file_extension": ".py",
   "mimetype": "text/x-python",
   "name": "python",
   "nbconvert_exporter": "python",
   "pygments_lexer": "ipython3",
   "version": "3.12.8"
  }
 },
 "nbformat": 4,
 "nbformat_minor": 2
}
