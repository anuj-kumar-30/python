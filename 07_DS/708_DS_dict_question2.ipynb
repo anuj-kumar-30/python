{
 "cells": [
  {
   "cell_type": "markdown",
   "metadata": {},
   "source": [
    "### Question 1: Implement a function for a CRM system that takes a dictionary of customer IDs (keys) and customer info (values) and updates the info for a specific customer.\n",
    "Hint: Use conditional checks to find the customer by ID and then update their information within the dictionary."
   ]
  },
  {
   "cell_type": "code",
   "execution_count": 1,
   "metadata": {},
   "outputs": [],
   "source": [
    "def CRMsystem(customers, customer_id, new_value):\n",
    "    for id, value in customers.items():\n",
    "        if id==customer_id:\n",
    "            customers[id]=new_value\n",
    "    return customers"
   ]
  },
  {
   "cell_type": "code",
   "execution_count": 2,
   "metadata": {},
   "outputs": [
    {
     "name": "stdout",
     "output_type": "stream",
     "text": [
      "Updated Customer Information:\n",
      "Customer ID: 101\n",
      "Information: {'name': 'John Smith', 'email': 'john@email.com', 'phone': '555-0123'}\n",
      "\n",
      "Customer ID: 102\n",
      "Information: {'name': 'Emma Wilson', 'email': 'emmaw@email.com', 'phone': '555-9999'}\n",
      "\n",
      "Customer ID: 103\n",
      "Information: {'name': 'Michael Lee', 'email': 'michael@email.com', 'phone': '555-0125'}\n",
      "\n"
     ]
    }
   ],
   "source": [
    "# Example usage\n",
    "customers = {\n",
    "    101: {\"name\": \"John Smith\", \"email\": \"john@email.com\", \"phone\": \"555-0123\"},\n",
    "    102: {\"name\": \"Emma Davis\", \"email\": \"emma@email.com\", \"phone\": \"555-0124\"},\n",
    "    103: {\"name\": \"Michael Lee\", \"email\": \"michael@email.com\", \"phone\": \"555-0125\"}\n",
    "}\n",
    "\n",
    "# Update customer 102's information\n",
    "new_info = {\"name\": \"Emma Wilson\", \"email\": \"emmaw@email.com\", \"phone\": \"555-9999\"}\n",
    "updated_customers = CRMsystem(customers, 102, new_info)\n",
    "\n",
    "# Print the updated customer dictionary\n",
    "print(\"Updated Customer Information:\")\n",
    "for cust_id, info in updated_customers.items():\n",
    "    print(f\"Customer ID: {cust_id}\")\n",
    "    print(f\"Information: {info}\")\n",
    "    print()\n"
   ]
  },
  {
   "cell_type": "markdown",
   "metadata": {},
   "source": [
    "### Question 2: Develop a function that simulates a stock trading system, taking a dictionary of stock symbols (keys) and prices (values), and returns a dictionary with updated prices after a trading day.\n",
    "Hint: Iterate over the dictionary, applying a random percentage change to each stock price to simulate market fluctuations."
   ]
  },
  {
   "cell_type": "code",
   "execution_count": 3,
   "metadata": {},
   "outputs": [
    {
     "name": "stdout",
     "output_type": "stream",
     "text": [
      "Original Stock Prices:\n",
      "AAPL: $150.25\n",
      "GOOGL: $2750.5\n",
      "MSFT: $310.75\n",
      "AMZN: $3300.0\n",
      "\n",
      "Updated Stock Prices after Trading Day:\n",
      "AAPL: $147.36\n",
      "GOOGL: $2750.82\n",
      "MSFT: $318.12\n",
      "AMZN: $3251.03\n"
     ]
    }
   ],
   "source": [
    "import random\n",
    "\n",
    "def stock_trading_system(stocks):\n",
    "    updated_stocks = {}\n",
    "    for symbol, price in stocks.items():\n",
    "        # Generate random percentage change between -5% and +5%\n",
    "        percent_change = random.uniform(-0.05, 0.05)\n",
    "        # Calculate new price with the percentage change\n",
    "        new_price = price * (1 + percent_change)\n",
    "        # Round to 2 decimal places for cents\n",
    "        updated_stocks[symbol] = round(new_price, 2)\n",
    "    return updated_stocks\n",
    "\n",
    "# Example usage\n",
    "stocks = {\n",
    "    \"AAPL\": 150.25,\n",
    "    \"GOOGL\": 2750.50,\n",
    "    \"MSFT\": 310.75,\n",
    "    \"AMZN\": 3300.00\n",
    "}\n",
    "\n",
    "# Simulate one trading day\n",
    "updated_prices = stock_trading_system(stocks)\n",
    "\n",
    "# Print the original and updated prices\n",
    "print(\"Original Stock Prices:\")\n",
    "for symbol, price in stocks.items():\n",
    "    print(f\"{symbol}: ${price}\")\n",
    "\n",
    "print(\"\\nUpdated Stock Prices after Trading Day:\")\n",
    "for symbol, price in updated_prices.items():\n",
    "    print(f\"{symbol}: ${price}\")\n"
   ]
  },
  {
   "cell_type": "markdown",
   "metadata": {},
   "source": [
    "### Question 3: Create a function for a delivery service that takes a dictionary of package IDs (keys) and delivery statuses (values) and returns a list of delayed packages based on a status query.\n",
    "Hint: Use a loop to filter packages by status and compile a list of IDs for those that are delayed."
   ]
  },
  {
   "cell_type": "code",
   "execution_count": 8,
   "metadata": {},
   "outputs": [],
   "source": [
    "def delayedPackges(orders):\n",
    "    ans = []\n",
    "    for id, status in orders.items():\n",
    "        if status == 'delay':\n",
    "            ans.append(id)\n",
    "    return ans"
   ]
  },
  {
   "cell_type": "code",
   "execution_count": 9,
   "metadata": {},
   "outputs": [
    {
     "name": "stdout",
     "output_type": "stream",
     "text": [
      "Delayed Package IDs:\n",
      "['PKG001', 'PKG003', 'PKG005']\n"
     ]
    }
   ],
   "source": [
    "\n",
    "# Example usage\n",
    "delivery_status = {\n",
    "    \"PKG001\": \"delay\",\n",
    "    \"PKG002\": \"delivered\", \n",
    "    \"PKG003\": \"delay\",\n",
    "    \"PKG004\": \"in transit\",\n",
    "    \"PKG005\": \"delay\"\n",
    "}\n",
    "\n",
    "# Get list of delayed packages\n",
    "delayed_packages = delayedPackges(delivery_status)\n",
    "\n",
    "print(\"Delayed Package IDs:\")\n",
    "print(delayed_packages)\n",
    "# Output: ['PKG001', 'PKG003', 'PKG005']\n"
   ]
  },
  {
   "cell_type": "markdown",
   "metadata": {},
   "source": [
    "### Question 4: Write a function for a library system that takes a dictionary of book titles (keys) and a list of authors and publication years (values), then returns a list of books published within a specified year range.\n",
    "Hint: Iterate through the dictionary, checking the publication year for each book and collecting titles that fall within the specified range."
   ]
  },
  {
   "cell_type": "code",
   "execution_count": null,
   "metadata": {},
   "outputs": [],
   "source": [
    "def fucn(books, start_year, end_year):\n",
    "    result = []\n",
    "    for title, details in books.items():\n",
    "        pub_year = details[1]  # Publication year is second element in value list\n",
    "        if start_year <= pub_year <= end_year:\n",
    "            result.append(title)\n",
    "    return result\n",
    "\n",
    "# Example usage\n",
    "library = {\n",
    "    \"The Great Gatsby\": [\"F. Scott Fitzgerald\", 1925],\n",
    "    \"To Kill a Mockingbird\": [\"Harper Lee\", 1960],\n",
    "    \"1984\": [\"George Orwell\", 1949],\n",
    "    \"The Catcher in the Rye\": [\"J.D. Salinger\", 1951],\n",
    "    \"Pride and Prejudice\": [\"Jane Austen\", 1813]\n",
    "}\n",
    "\n",
    "# Find books published between 1940 and 1960\n",
    "books_in_range = fucn(library, 1940, 1960)\n",
    "\n",
    "print(\"Books published between 1940 and 1960:\")\n",
    "print(books_in_range)\n",
    "# Output: ['1984', 'The Catcher in the Rye']\n"
   ]
  }
 ],
 "metadata": {
  "kernelspec": {
   "display_name": "Python 3",
   "language": "python",
   "name": "python3"
  },
  "language_info": {
   "codemirror_mode": {
    "name": "ipython",
    "version": 3
   },
   "file_extension": ".py",
   "mimetype": "text/x-python",
   "name": "python",
   "nbconvert_exporter": "python",
   "pygments_lexer": "ipython3",
   "version": "3.13.1"
  }
 },
 "nbformat": 4,
 "nbformat_minor": 2
}
