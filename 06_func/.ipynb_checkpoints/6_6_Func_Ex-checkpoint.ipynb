{
 "cells": [
  {
   "cell_type": "markdown",
   "id": "4021e188-7c5f-43dc-86d6-a78593fc62ca",
   "metadata": {},
   "source": [
    "### Question 1: A software company needs a function to calculate the total cost of a project based on the hourly rate and the total hours worked. Write this function.\n",
    "Hint: Use two parameters for the hourly rate and hours worked, and return the product of the two."
   ]
  },
  {
   "cell_type": "code",
   "execution_count": 1,
   "id": "a0e3eea1-5168-4622-9260-6fe1a0b4684a",
   "metadata": {},
   "outputs": [],
   "source": [
    "def totalCost(rate, hrs):\n",
    "    return rate*hrs"
   ]
  },
  {
   "cell_type": "markdown",
   "id": "7506e8b9-0232-4e64-be54-bc0c85db81a2",
   "metadata": {},
   "source": [
    "### Question 2: An online store requires a function to apply a discount to a price. The function should take the original price and the discount percentage.\n",
    "Hint: Calculate the discount amount and subtract it from the original price."
   ]
  },
  {
   "cell_type": "code",
   "execution_count": 2,
   "id": "c4084359-6df3-4286-a11a-2abc772840d0",
   "metadata": {},
   "outputs": [],
   "source": [
    "def discountPrice(orgPrice, disPercentage):\n",
    "    return orgPrice-(orgPrice*0.01*disPercentage)"
   ]
  },
  {
   "cell_type": "markdown",
   "id": "5c8e9edf-8b00-4959-a5d5-aa8c335fb5a7",
   "metadata": {},
   "source": [
    "### Question 3: A science lab needs a function to convert temperatures from Celsius to Fahrenheit.\n",
    "Hint: The formula for the conversion is `(Celsius * 9/5) + 32`. Use it in your function."
   ]
  },
  {
   "cell_type": "code",
   "execution_count": 3,
   "id": "8185eb00-712c-41ef-8bdb-c9c66c1849fe",
   "metadata": {},
   "outputs": [],
   "source": [
    "def celsiusToFahrenheit(cel):\n",
    "    return cel*9/5+32"
   ]
  },
  {
   "cell_type": "markdown",
   "id": "18005ed3-734e-4dcd-a501-16efd0a06216",
   "metadata": {},
   "source": [
    "### Question 4: An automobile company wants a function to calculate fuel efficiency. The function should accept miles driven and gallons used.\n",
    "Hint: Fuel efficiency is measured in miles per gallon. Return the division of miles by gallons."
   ]
  },
  {
   "cell_type": "code",
   "execution_count": 4,
   "id": "7198de34-287e-4c0c-b38a-9cb29374f47f",
   "metadata": {},
   "outputs": [],
   "source": [
    "def fuelEfficiency(miles, gallons):\n",
    "    return miles/gallons"
   ]
  },
  {
   "cell_type": "markdown",
   "id": "e707bc10-d9c1-4b56-8a36-e9f23b7e4d36",
   "metadata": {},
   "source": [
    "### Question 5: A game development company needs a function that generates a character's stats based on a given class (Warrior, Mage, etc.).\n",
    "Hint: Use if-elif-else statements to assign different stats based on the character class"
   ]
  },
  {
   "cell_type": "code",
   "execution_count": null,
   "id": "a2563b9c-6e4b-46a4-ab0f-17792b9acf53",
   "metadata": {},
   "outputs": [],
   "source": []
  },
  {
   "cell_type": "markdown",
   "id": "829d5858-00ea-4be7-9bc8-19cb27401612",
   "metadata": {},
   "source": [
    "### Question 6: A finance firm requires a function to calculate compound interest. The function should accept the principal amount, rate of interest, and time in years.\n",
    "Hint: Use the formula `P(1 + R/100)^T` where P is principal, R is rate, and T is time."
   ]
  },
  {
   "cell_type": "code",
   "execution_count": 5,
   "id": "a95e8fea-3043-4cf2-912e-b933c5e7f4d7",
   "metadata": {},
   "outputs": [],
   "source": [
    "def compInterest(p,r,t):\n",
    "    return p(1+r/100)**t"
   ]
  },
  {
   "cell_type": "markdown",
   "id": "4da562fb-3cc7-4883-a6a3-daf3aa13d1b9",
   "metadata": {},
   "source": [
    "### Question 7: A cloud service provider needs a function to calculate the cost of storage based on the amount of data stored (in GBs) and the duration (in months).\n",
    "Hint: The cost could depend on the tier of storage. Implement different rates for different tiers."
   ]
  },
  {
   "cell_type": "code",
   "execution_count": null,
   "id": "2379679d-a560-4cca-98e9-030bbb01ac1b",
   "metadata": {},
   "outputs": [],
   "source": []
  },
  {
   "cell_type": "markdown",
   "id": "1a2e4223-bec6-4d74-81a4-74c1a9a9f265",
   "metadata": {},
   "source": [
    "### Question 8: A publishing company wants a function to count the number of words in a manuscript.\n",
    "Hint: Split the text into words and count them. Consider edge cases like punctuation.\n",
    "\n"
   ]
  },
  {
   "cell_type": "code",
   "execution_count": null,
   "id": "bdd3591c-9085-44cb-834e-152fbf3277a0",
   "metadata": {},
   "outputs": [],
   "source": [
    "def "
   ]
  }
 ],
 "metadata": {
  "kernelspec": {
   "display_name": "Python 3 (ipykernel)",
   "language": "python",
   "name": "python3"
  },
  "language_info": {
   "codemirror_mode": {
    "name": "ipython",
    "version": 3
   },
   "file_extension": ".py",
   "mimetype": "text/x-python",
   "name": "python",
   "nbconvert_exporter": "python",
   "pygments_lexer": "ipython3",
   "version": "3.13.1"
  }
 },
 "nbformat": 4,
 "nbformat_minor": 5
}
