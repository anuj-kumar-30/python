{
 "cells": [
  {
   "cell_type": "markdown",
   "metadata": {},
   "source": [
    "**Question 1:**\n",
    "A software company needs a function to calculate the total cost of a project based on the hourly rate and the total hours worked. Write this function.\n",
    "\n",
    "*   **Hint:** Use two parameters for the hourly rate and hours worked, and return the product of the two."
   ]
  },
  {
   "cell_type": "code",
   "execution_count": null,
   "metadata": {},
   "outputs": [],
   "source": [
    "# Code for Question 1\n",
    "def calculate_total_cost(hourly_rate, hours_worked):\n",
    "    # Your code here\n",
    "    pass"
   ]
  },
  {
   "cell_type": "markdown",
   "metadata": {},
   "source": [
    "**Question 2:**\n",
    "An online store requires a function to apply a discount to a price. The function should take the original price and the discount percentage.\n",
    "\n",
    "*   **Hint:** Calculate the discount amount and subtract it from the original price."
   ]
  },
  {
   "cell_type": "code",
   "execution_count": null,
   "metadata": {},
   "outputs": [],
   "source": [
    "# Code for Question 2\n",
    "def apply_discount(original_price, discount_percentage):\n",
    "    # Your code here\n",
    "    pass"
   ]
  },
  {
   "cell_type": "markdown",
   "metadata": {},
   "source": [
    "**Question 3:**\n",
    "A science lab needs a function to convert temperatures from Celsius to Fahrenheit.\n",
    "\n",
    "*   **Hint:** The formula for the conversion is `(Celsius * 9/5) + 32`. Use it in your function."
   ]
  },
  {
   "cell_type": "code",
   "execution_count": null,
   "metadata": {},
   "outputs": [],
   "source": [
    "# Code for Question 3\n",
    "def celsius_to_fahrenheit(celsius):\n",
    "    # Your code here\n",
    "    pass"
   ]
  },
   {
   "cell_type": "markdown",
   "metadata": {},
   "source": [
    "**Question 4:**\n",
    "An automobile company wants a function to calculate fuel efficiency. The function should accept miles driven and gallons used.\n",
    "\n",
    "*   **Hint:** Fuel efficiency is measured in miles per gallon. Return the division of miles by gallons."
    ]
  },
  {
   "cell_type": "code",
   "execution_count": null,
   "metadata": {},
    "outputs": [],
   "source": [
    "# Code for Question 4\n",
    "def calculate_fuel_efficiency(miles_driven, gallons_used):\n",
    "    # Your code here\n",
    "    pass"
   ]
  },
    {
   "cell_type": "markdown",
   "metadata": {},
   "source": [
     "**Question 5:**\n",
    "A game development company needs a function that generates a character's stats based on a given class (Warrior, Mage, etc.).\n",
    "\n",
    "*   **Hint:** Use if-elif-else statements to assign different stats based on the character class."
   ]
  },
  {
   "cell_type": "code",
   "execution_count": null,
   "metadata": {},
    "outputs": [],
   "source": [
    "# Code for Question 5\n",
    "def generate_character_stats(character_class):\n",
    "    # Your code here\n",
    "    pass"
   ]
  },
    {
   "cell_type": "markdown",
   "metadata": {},
   "source": [
    "**Question 6:**\n",
     "A finance firm requires a function to calculate compound interest. The function should accept the principal amount, rate of interest, and time in years.\n",
    "\n",
    "*   **Hint:** Use the formula `P(1 + R/100)^T` where P is principal, R is rate, and T is time."
    ]
  },
  {
   "cell_type": "code",
   "execution_count": null,
   "metadata": {},
    "outputs": [],
   "source": [
    "# Code for Question 6\n",
    "def calculate_compound_interest(principal, rate, time):\n",
    "    # Your code here\n",
    "    pass"
   ]
  },
    {
   "cell_type": "markdown",
   "metadata": {},
   "source": [
    "**Question 7:**\n",
    "A cloud service provider needs a function to calculate the cost of storage based on the amount of data stored (in GBs) and the duration (in months).\n",
     "\n",
    "*   **Hint:** The cost could depend on the tier of storage. Implement different rates for different tiers."
    ]
  },
  {
   "cell_type": "code",
   "execution_count": null,
   "metadata": {},
    "outputs": [],
   "source": [
    "# Code for Question 7\n",
    "def calculate_storage_cost(data_stored_gb, duration_months, storage_tier):\n",
    "    # Your code here\n",
    "    pass"
   ]
  },
    {
   "cell_type": "markdown",
   "metadata": {},
   "source": [
    "**Question 8:**\n",
    "A publishing company wants a function to count the number of words in a manuscript.\n",
    "\n",
    "*   **Hint:** Split the text into words and count them. Consider edge cases like punctuation."
    ]
  },
  {
   "cell_type": "code",
   "execution_count": null,
   "metadata": {},
    "outputs": [],
   "source": [
    "# Code for Question 8\n",
    "def count_words(manuscript):\n",
    "    # Your code here\n",
    "    pass"
   ]
  },
   {
   "cell_type": "markdown",
   "metadata": {},
   "source": [
    "**Question 9:**\n",
    "An environmental organization needs a function to calculate carbon footprint reduction from planting trees. Each tree absorbs a certain amount of CO2 per year.\n",
    "\n",
    "*   **Hint:** Multiply the number of trees by the absorption rate per tree and the number of years."
    ]
  },
  {
   "cell_type": "code",
   "execution_count": null,
   "metadata": {},
    "outputs": [],
   "source": [
    "# Code for Question 9\n",
    "def calculate_carbon_footprint_reduction(num_trees, absorption_rate_per_tree, num_years):\n",
    "    # Your code here\n",
    "    pass"
   ]
  },
    {
   "cell_type": "markdown",
   "metadata": {},
   "source": [
    "**Question 10:**\n",
    "A fitness app requires a function to calculate calories burned based on the type of exercise, its duration, and the user's weight.\n",
     "\n",
    "*   **Hint:** Define different calorie burn rates for different exercises and use them in your calculation."
    ]
  },
  {
   "cell_type": "code",
   "execution_count": null,
   "metadata": {},
    "outputs": [],
   "source": [
    "# Code for Question 10\n",
    "def calculate_calories_burned(exercise_type, duration, user_weight):\n",
    "    # Your code here\n",
    "    pass"
   ]
  }
 ],
 "metadata": {
  "kernelspec": {
   "display_name": "Python 3",
   "language": "python",
   "name": "python3"
  },
  "language_info": {
   "codemirror_mode": {
    "name": "ipython",
    "version": 3
   },
   "file_extension": ".py",
   "mimetype": "text/x-python",
   "name": "python",
   "nbconvert_exporter": "python",
   "pygments_lexer": "ipython3",
   "version": "3.11.5"
  }
 },
 "nbformat": 4,
 "nbformat_minor": 5
}
