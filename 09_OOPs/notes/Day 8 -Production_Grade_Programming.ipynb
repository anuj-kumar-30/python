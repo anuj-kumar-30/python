{
 "cells": [
  {
   "cell_type": "markdown",
   "metadata": {
    "id": "wN8Oom8TtUcj"
   },
   "source": [
    "# What is Production Environment?\n",
    "\n",
    "Production environment is a term used mostly by developers to describe the setting where software and other products are actually put into operation for their intended uses by end users.\n",
    "\n",
    "Concepts that will be useful in writing production grade code:\n",
    "* Object Oriented Programming\n",
    "* Handling Errors and Exceptions"
   ]
  },
  {
   "cell_type": "markdown",
   "metadata": {
    "collapsed": true,
    "id": "tY-zYTU6tUck"
   },
   "source": [
    "# 1. Object Oriented Programming\n",
    "\n",
    "Object Oriented Programming (OOP) tends to be one of the most interesting concepts to learn in Python.\n",
    "\n",
    "For this lesson we will construct our knowledge of OOP in Python by building on the following topics:\n",
    "\n",
    "* Objects\n",
    "* Using the *class* keyword\n",
    "* Creating class attributes\n",
    "* Creating methods in a class\n",
    "* Learning about Polymorphism\n",
    "\n",
    "Lets start the lesson by remembering about the Basic Python Objects. For example:"
   ]
  },
  {
   "cell_type": "code",
   "execution_count": null,
   "metadata": {
    "id": "074xnaDptUcl"
   },
   "outputs": [],
   "source": [
    "empty_list = []"
   ]
  },
  {
   "cell_type": "code",
   "execution_count": null,
   "metadata": {
    "colab": {
     "base_uri": "https://localhost:8080/"
    },
    "id": "CKsj93ax1H-y",
    "outputId": "e88bf0ad-6f84-4a9e-c0f2-5f9c7486f8f4"
   },
   "outputs": [],
   "source": [
    "empty_list"
   ]
  },
  {
   "cell_type": "code",
   "execution_count": null,
   "metadata": {
    "id": "zm9GXzT20P-2"
   },
   "outputs": [],
   "source": [
    "another_empty_list = list()"
   ]
  },
  {
   "cell_type": "code",
   "execution_count": null,
   "metadata": {
    "colab": {
     "base_uri": "https://localhost:8080/"
    },
    "id": "MjiSihea1LJr",
    "outputId": "fd434706-a70e-46d2-9f19-d02430e1fdcb"
   },
   "outputs": [],
   "source": [
    "another_empty_list"
   ]
  },
  {
   "cell_type": "markdown",
   "metadata": {
    "id": "_7YoNowOtUco"
   },
   "source": [
    "Remember how we could call methods on a list?"
   ]
  },
  {
   "cell_type": "code",
   "execution_count": null,
   "metadata": {
    "id": "zXhwOgpPtUco"
   },
   "outputs": [],
   "source": [
    "another_empty_list.append(2)"
   ]
  },
  {
   "cell_type": "code",
   "execution_count": null,
   "metadata": {
    "colab": {
     "base_uri": "https://localhost:8080/"
    },
    "id": "7Qj0Tcow1UQ3",
    "outputId": "9f85b0ce-4a5e-4e89-acc4-348dd53d7e60"
   },
   "outputs": [],
   "source": [
    "another_empty_list"
   ]
  },
  {
   "cell_type": "code",
   "execution_count": null,
   "metadata": {
    "id": "L-u_85Po1ZiQ"
   },
   "outputs": [],
   "source": [
    "another_empty_list.append(1)\n",
    "another_empty_list.append(3)"
   ]
  },
  {
   "cell_type": "code",
   "execution_count": null,
   "metadata": {
    "colab": {
     "base_uri": "https://localhost:8080/"
    },
    "id": "MbxECXha1dLP",
    "outputId": "ef51b04b-a177-44ab-8c27-d519db99b1d8"
   },
   "outputs": [],
   "source": [
    "another_empty_list"
   ]
  },
  {
   "cell_type": "code",
   "execution_count": null,
   "metadata": {
    "colab": {
     "base_uri": "https://localhost:8080/"
    },
    "id": "q_BaBJeayeAR",
    "outputId": "53a170bc-7421-4a42-ddde-1a5b696b4442"
   },
   "outputs": [],
   "source": [
    "another_empty_list.index(3)"
   ]
  },
  {
   "cell_type": "markdown",
   "metadata": {
    "id": "KvpqGgLLtUcr"
   },
   "source": [
    "What we will basically be doing in this lecture is exploring how we could create an Object type like a list. We've already learned about how to create functions. So let's explore Objects in general:\n",
    "\n",
    "## Objects\n",
    "In Python, *everything is an object*. Remember from previous lectures we can use type() to check the type of object something is:"
   ]
  },
  {
   "cell_type": "code",
   "execution_count": null,
   "metadata": {
    "colab": {
     "base_uri": "https://localhost:8080/"
    },
    "id": "x6xnvszD4jNA",
    "outputId": "0ed03f96-f28d-4baf-98df-65192abae4ff"
   },
   "outputs": [],
   "source": [
    "the_sixth_sense = 6\n",
    "print(type(the_sixth_sense))"
   ]
  },
  {
   "cell_type": "code",
   "execution_count": null,
   "metadata": {
    "colab": {
     "base_uri": "https://localhost:8080/"
    },
    "id": "e8BHON1jtUcs",
    "outputId": "460750e1-4bd4-4907-815d-167c639e66f4"
   },
   "outputs": [],
   "source": [
    "two_and_a_half_men = 2.5\n",
    "print(type(two_and_a_half_men))"
   ]
  },
  {
   "cell_type": "code",
   "execution_count": null,
   "metadata": {
    "colab": {
     "base_uri": "https://localhost:8080/"
    },
    "id": "d3wRT6DL5H3Q",
    "outputId": "ee2e66f8-ec69-4d89-8413-81bfbf2c1733"
   },
   "outputs": [],
   "source": [
    "schindlers_list = list()\n",
    "print(type(schindlers_list))"
   ]
  },
  {
   "cell_type": "code",
   "execution_count": null,
   "metadata": {
    "id": "T9s5C_AryiU9"
   },
   "outputs": [],
   "source": [
    "another_list = list()"
   ]
  },
  {
   "cell_type": "code",
   "execution_count": null,
   "metadata": {
    "colab": {
     "base_uri": "https://localhost:8080/"
    },
    "id": "_IiPXPfK5G8O",
    "outputId": "ab99df79-f2c1-4acf-fb77-a579380c9af0"
   },
   "outputs": [],
   "source": [
    "tharoor = {'farrago':'a confused mixture'}\n",
    "print(type(tharoor))"
   ]
  },
  {
   "cell_type": "markdown",
   "metadata": {
    "id": "4RUiqsextUcu"
   },
   "source": [
    "So we know all these things are objects, so how can we create our own Object types? That is where the <code>class</code> keyword comes in.\n",
    "## class\n",
    "User defined objects are created using the <code>class</code> keyword. The class is a blueprint that defines the nature of a future object. From classes we can construct instances. An instance is a specific object created from a particular class. For example, above we created the object <code>another_empty_list</code> which was an instance of a list object.\n",
    "\n",
    "Let see how we can use <code>class</code>:"
   ]
  },
  {
   "cell_type": "markdown",
   "metadata": {},
   "source": [
    "A class is a blueprint that defines the structure and behavior of objects, while an object is an instance of a class, representing a specific instance of that structure with its own unique data."
   ]
  },
  {
   "cell_type": "code",
   "execution_count": 1,
   "metadata": {
    "id": "-St1spSutUcv"
   },
   "outputs": [],
   "source": [
    "# Create a new object type called FirstClass\n",
    "class FirstClass:\n",
    "    pass"
   ]
  },
  {
   "cell_type": "code",
   "execution_count": 2,
   "metadata": {
    "colab": {
     "base_uri": "https://localhost:8080/"
    },
    "id": "wm_mkKWZtUcx",
    "outputId": "5dc324dd-ad80-43b3-b791-ed3c22c5e610"
   },
   "outputs": [
    {
     "name": "stdout",
     "output_type": "stream",
     "text": [
      "<class '__main__.FirstClass'>\n"
     ]
    }
   ],
   "source": [
    "# Instance of FirstClass\n",
    "x = FirstClass()\n",
    "print(type(x))"
   ]
  },
  {
   "cell_type": "code",
   "execution_count": null,
   "metadata": {
    "colab": {
     "base_uri": "https://localhost:8080/"
    },
    "id": "110XHhG_tUcz",
    "outputId": "69859b4d-e420-422d-eb75-b84b48afc727"
   },
   "outputs": [],
   "source": [
    "y = FirstClass()\n",
    "print(type(y))"
   ]
  },
  {
   "cell_type": "markdown",
   "metadata": {},
   "source": [
    "# Understanding `self` and `__init__` in Python Classes\n",
    "\n",
    "In object-oriented programming (OOP) with Python, `self` and `__init__` play crucial roles in defining and working with classes. Here's an in-depth look at these concepts.\n",
    "\n",
    "## `self`\n",
    "\n",
    "- **What is `self`?**\n",
    "  - `self` represents the instance of the class. It's used to access the attributes and methods of the class in Python, binding the attributes with the given arguments.\n",
    "- **Convention**\n",
    "  - While `self` is not a Python keyword, it's a convention widely adopted for readability and consistency.\n",
    "- **Usage**\n",
    "  - `self` is used in instance methods to refer to the object itself. It's the first parameter of any instance method in a class, enabling access to the class's attributes and other methods.\n",
    "\n",
    "## `__init__`\n",
    "\n",
    "- **What is `__init__`?**\n",
    "  - `__init__` is a special method in Python classes, known as a constructor. It's automatically invoked when a new instance of the class is created, initializing the object's attributes with values.\n",
    "- **Purpose**\n",
    "  - The `__init__` method allows for the initialization of the newly created object's attributes, facilitating the creation of complex and useful objects.\n",
    "\n",
    "## Code Example\n",
    "\n",
    "Here's a simple example to illustrate the use of `self` and `__init__` in a class definition:\n",
    "\n",
    "```python\n",
    "class Person:\n",
    "    def __init__(self, name, age):\n",
    "        self.name = name  # Attribute 'name' is bound to the instance\n",
    "        self.age = age    # Attribute 'age' is bound to the instance\n",
    "\n",
    "    def greet(self):\n",
    "        # Uses 'self' to access attributes\n",
    "        print(f\"Hello, my name is {self.name} and I am {self.age} years old.\")\n",
    "\n",
    "# Creating an instance of the Person class\n",
    "person1 = Person(\"Alice\", 30)\n",
    "\n",
    "# Calling an instance method\n",
    "person1.greet()\n"
   ]
  },
  {
   "cell_type": "markdown",
   "metadata": {
    "id": "0GzJ7pXVtUc2"
   },
   "source": [
    "By convention we give classes a name that starts with a capital letter. Note how <code>x</code> is now the reference to our new instance of a FirstClass class. In other words, we **instantiate** the FirstClass class.\n",
    "\n",
    "Inside of the class we currently just have pass. But we can define class attributes and methods.\n",
    "\n",
    "An **attribute** is a characteristic of an object.\n",
    "A **method** is an operation we can perform with the object.\n",
    "\n",
    "For example, we can create a class called Dog. An attribute of a dog may be its breed or its name, while a method of a dog may be defined by a .bark() method which returns a sound.\n",
    "\n",
    "Let's get a better understanding of attributes through an example.\n",
    "\n",
    "## Attributes\n",
    "The syntax for creating an attribute is:\n",
    "    \n",
    "    self.attribute = something\n",
    "    \n",
    "There is a special method called:\n",
    "\n",
    "    __init__()\n",
    "\n",
    "This method is used to initialize the attributes of an object. For example:"
   ]
  },
  {
   "cell_type": "code",
   "execution_count": null,
   "metadata": {
    "id": "v9cCQCqPtUc2"
   },
   "outputs": [],
   "source": [
    "class Dog:\n",
    "\n",
    "    def __init__(self, breed, name):\n",
    "        self.breed_attribute = breed\n",
    "        self.name_attribute = name"
   ]
  },
  {
   "cell_type": "code",
   "execution_count": null,
   "metadata": {
    "id": "JLdPP81ptUc4"
   },
   "outputs": [],
   "source": [
    "sam_object = Dog(breed='Lab', name = 'Sam')\n",
    "\n",
    "\n",
    "frank_object = Dog(breed='Huskie', name = 'Frank')"
   ]
  },
  {
   "cell_type": "code",
   "execution_count": null,
   "metadata": {
    "colab": {
     "base_uri": "https://localhost:8080/",
     "height": 35
    },
    "id": "7ZdGFUwAeSu5",
    "outputId": "19bfed6b-301a-4574-d46c-403a53a8df94"
   },
   "outputs": [],
   "source": [
    "sam_object.breed_attribute"
   ]
  },
  {
   "cell_type": "markdown",
   "metadata": {
    "id": "uIP-Vw97tUc6"
   },
   "source": [
    "Lets break down what we have above.The special method\n",
    "\n",
    "    __init__()\n",
    "is called automatically right after the object has been created:\n",
    "\n",
    "    def __init__(self, breed):\n",
    "Each attribute in a class definition begins with a reference to the instance object. It is by convention named self. The breed is the argument. The value is passed during the class instantiation.\n",
    "\n",
    "     self.breed = breed"
   ]
  },
  {
   "cell_type": "markdown",
   "metadata": {
    "id": "-mBKAs8ltUc6"
   },
   "source": [
    "Now we have created two instances of the Dog class. With two breed types, we can then access these attributes like this:"
   ]
  },
  {
   "cell_type": "code",
   "execution_count": null,
   "metadata": {
    "colab": {
     "base_uri": "https://localhost:8080/",
     "height": 35
    },
    "id": "nHsgoXD7tUc7",
    "outputId": "82fd2eff-0148-454b-bd14-e33065066a3f"
   },
   "outputs": [],
   "source": [
    "sam_object.name_attribute"
   ]
  },
  {
   "cell_type": "code",
   "execution_count": null,
   "metadata": {
    "colab": {
     "base_uri": "https://localhost:8080/",
     "height": 35
    },
    "id": "gH38mpAPtUc9",
    "outputId": "1d50416d-747b-46ca-ed3c-3d86fbe69576"
   },
   "outputs": [],
   "source": [
    "frank_object.name_attribute"
   ]
  },
  {
   "cell_type": "markdown",
   "metadata": {
    "id": "nOUFB6IGtUdD"
   },
   "source": [
    "Note how we don't have any parentheses after breed; this is because it is an attribute and doesn't take any arguments."
   ]
  },
  {
   "cell_type": "markdown",
   "metadata": {
    "id": "AZ1ToQpltUdE"
   },
   "source": [
    "## Methods\n",
    "\n",
    "Methods are functions defined inside the body of a class. They are used to perform operations with the attributes of our objects. Methods are a key concept of the OOP paradigm. They are essential to dividing responsibilities in programming, especially in large applications.\n",
    "\n",
    "You can basically think of methods as functions acting on an Object that take the Object itself into account through its *self* argument.\n",
    "\n",
    "Let's go through an example of creating a Circle class:"
   ]
  },
  {
   "cell_type": "code",
   "execution_count": null,
   "metadata": {
    "id": "IH9PURqwtUdF"
   },
   "outputs": [],
   "source": [
    "class Circle:\n",
    "\n",
    "  def __init__(self, radius=1):\n",
    "    self.radius = radius\n",
    "    self.area = 3.14 * radius * radius\n",
    "\n",
    "  def setRadius(self, new_radius):\n",
    "    self.radius = new_radius\n",
    "    self.area = 3.14 * new_radius * new_radius\n",
    "\n",
    "  def getCircumference(self):\n",
    "    return 2 * 3.14 * self.radius"
   ]
  },
  {
   "cell_type": "code",
   "execution_count": null,
   "metadata": {
    "id": "xpiQhNfDtUdH"
   },
   "outputs": [],
   "source": [
    "c = Circle()"
   ]
  },
  {
   "cell_type": "code",
   "execution_count": null,
   "metadata": {},
   "outputs": [],
   "source": [
    "type(c)"
   ]
  },
  {
   "cell_type": "code",
   "execution_count": null,
   "metadata": {
    "colab": {
     "base_uri": "https://localhost:8080/"
    },
    "id": "wwhkXDJqjAHg",
    "outputId": "e6436d97-9581-4edd-fb16-1a2aacf66d4c"
   },
   "outputs": [],
   "source": [
    "c.area"
   ]
  },
  {
   "cell_type": "code",
   "execution_count": null,
   "metadata": {},
   "outputs": [],
   "source": [
    "c.getCircumference()"
   ]
  },
  {
   "cell_type": "code",
   "execution_count": null,
   "metadata": {
    "colab": {
     "base_uri": "https://localhost:8080/"
    },
    "id": "7d5jk613jLmy",
    "outputId": "7bf2fc67-31b3-46da-d486-e15cc56c23b6"
   },
   "outputs": [],
   "source": [
    "c.getCircumference()"
   ]
  },
  {
   "cell_type": "code",
   "execution_count": null,
   "metadata": {
    "colab": {
     "base_uri": "https://localhost:8080/"
    },
    "id": "LtcO9Ne3iUo3",
    "outputId": "9852e48d-35f2-4ac9-d785-14504cf70b6c"
   },
   "outputs": [],
   "source": [
    "print('Radius is: ', c.radius)\n",
    "print('Area is: ', c.area)\n",
    "print('Circumference is: ', c.getCircumference())"
   ]
  },
  {
   "cell_type": "markdown",
   "metadata": {
    "id": "zOyW9yPHtUdJ"
   },
   "source": [
    "Now let's change the radius and see how that affects our Circle object:"
   ]
  },
  {
   "cell_type": "code",
   "execution_count": null,
   "metadata": {
    "colab": {
     "base_uri": "https://localhost:8080/"
    },
    "id": "Sp6WUJc9tUdJ",
    "outputId": "49205cb5-501a-41bd-bf5e-58c277c3b5a3"
   },
   "outputs": [],
   "source": [
    "c.setRadius(4)\n",
    "\n",
    "print('Radius is: ', c.radius)\n",
    "print('Area is: ', c.area)\n",
    "print('Circumference is: ', c.getCircumference())"
   ]
  },
  {
   "cell_type": "markdown",
   "metadata": {
    "id": "_0r0aq3ntUdL"
   },
   "source": [
    "Great! Notice how we used self. notation to reference attributes of the class within the method calls. Review how the code above works and try creating your own method."
   ]
  },
  {
   "cell_type": "markdown",
   "metadata": {},
   "source": [
    "The self keyword is used within methods of a class to refer to the instance of the class itself. It's a way for methods to access and manipulate the attributes and methods of the specific instance they are called on."
   ]
  },
  {
   "cell_type": "markdown",
   "metadata": {
    "id": "VYD7BgLZtUdM"
   },
   "source": [
    "## Polymorphism\n",
    "\n",
    "We've learned that while functions can take in different arguments, methods belong to the objects they act on. In Python, *polymorphism* refers to the way in which different object classes can share the same method name, and those methods can be called from the same place even though a variety of different objects might be passed in. The best way to explain this is by example:"
   ]
  },
  {
   "cell_type": "markdown",
   "metadata": {},
   "source": [
    "Imagine you're writing a program to represent different animals. You could create a class for each type of animal, and each class has a method called make_sound() that represents the sound that animal makes. Here's how it might look in Python:\n",
    "\n"
   ]
  },
  {
   "cell_type": "code",
   "execution_count": null,
   "metadata": {},
   "outputs": [],
   "source": [
    "# class Animal:\n",
    "    \n",
    "#     def make_sound(self):\n",
    "#         pass\n",
    "\n",
    "class Dog:\n",
    "    def make_sound(self):\n",
    "        return \"Woof!\"\n",
    "\n",
    "class Cat:\n",
    "    def make_sound(self):\n",
    "        return \"Meow!\"\n",
    "\n",
    "class Duck:\n",
    "    def make_sound(self):\n",
    "        return \"Quack!\""
   ]
  },
  {
   "cell_type": "markdown",
   "metadata": {},
   "source": [
    "In this example:\n",
    "\n",
    "We have a common base class called Animal with a method make_sound().\n",
    "Each specific animal class (e.g., Dog, Cat, Duck) inherits from the Animal class and provides its own implementation of the make_sound() method.\n",
    "Now, let's see how polymorphism comes into play:"
   ]
  },
  {
   "cell_type": "code",
   "execution_count": null,
   "metadata": {},
   "outputs": [],
   "source": [
    "def animal_sound(animal):\n",
    "    return animal.make_sound()\n",
    "\n",
    "dog = Dog()\n",
    "cat = Cat()\n",
    "duck = Duck()\n",
    "\n",
    "print(animal_sound(dog))  # Output: \"Woof!\"\n",
    "print(animal_sound(cat))  # Output: \"Meow!\"\n",
    "print(animal_sound(duck))  # Output: \"Quack!\""
   ]
  },
  {
   "cell_type": "markdown",
   "metadata": {},
   "source": [
    "In this code:\n",
    "\n",
    "The animal_sound() function takes an Animal object as an argument.\n",
    "It calls the make_sound() method on that object.\n",
    "Even though we pass different types of animals (Dog, Cat, Duck) to the function, polymorphism allows the correct make_sound() method associated with each specific animal class to be called automatically.\n",
    "In simpler terms, polymorphism lets you treat different objects (animals in this case) in a consistent way using a common interface (make_sound() method). You don't need to worry about the specific type of animal you're dealing with; the correct behavior is determined based on the object you provide."
   ]
  },
  {
   "cell_type": "code",
   "execution_count": null,
   "metadata": {
    "id": "C-DbH8vVtUdM"
   },
   "outputs": [],
   "source": [
    "class HouseStark:\n",
    "    def __init__(self, sigil):\n",
    "        self.sigil = sigil\n",
    "\n",
    "    def motto(self):\n",
    "        return \"House Stark with sigil \" + self.sigil + \" has the motto 'Winter is coming'\""
   ]
  },
  {
   "cell_type": "code",
   "execution_count": null,
   "metadata": {
    "id": "Knb58dwgF5wZ"
   },
   "outputs": [],
   "source": [
    "class HouseLannister:\n",
    "    def __init__(self, sigil):\n",
    "        self.sigil = sigil\n",
    "\n",
    "    def motto(self):\n",
    "        return \"House Lannister with sigil \" + self.sigil + \" has the motto 'Hear me roar'\""
   ]
  },
  {
   "cell_type": "code",
   "execution_count": null,
   "metadata": {
    "id": "ZHMg38V2tUdO"
   },
   "outputs": [],
   "source": [
    "arya = HouseStark('direwolf')\n",
    "\n",
    "arya_2=HouseStark('direwolf_2')\n",
    "\n",
    "\n",
    "tyrion = HouseLannister('golden lion')"
   ]
  },
  {
   "cell_type": "code",
   "execution_count": null,
   "metadata": {
    "colab": {
     "base_uri": "https://localhost:8080/"
    },
    "id": "haoS9YqetUdR",
    "outputId": "f3e0ebe9-6df7-4a07-9433-ab6279f5dee3"
   },
   "outputs": [],
   "source": []
  },
  {
   "cell_type": "code",
   "execution_count": null,
   "metadata": {
    "colab": {
     "base_uri": "https://localhost:8080/"
    },
    "id": "HsZugVGgFChX",
    "outputId": "84a55214-02de-4c8b-c044-f7a303256d42"
   },
   "outputs": [],
   "source": [
    "\n",
    "print(arya.motto())\n",
    "print(tyrion.motto())"
   ]
  },
  {
   "cell_type": "markdown",
   "metadata": {
    "id": "bWpYCHnXtUdT"
   },
   "source": [
    "Here we have a HouseStark class and a HouseLannister class, and each has a `.motto()` method. When called, each object's `.motto()` method returns a result unique to the object.\n",
    "\n",
    "There a few different ways to demonstrate polymorphism. First, with a for loop:"
   ]
  },
  {
   "cell_type": "code",
   "execution_count": null,
   "metadata": {
    "colab": {
     "base_uri": "https://localhost:8080/"
    },
    "id": "sB9Dm2QetUdU",
    "outputId": "7488415d-d70b-4483-c2a9-dcb610e9dad0"
   },
   "outputs": [],
   "source": [
    "for warrior in [arya, tyrion]:\n",
    "    print(warrior.motto())"
   ]
  },
  {
   "cell_type": "markdown",
   "metadata": {
    "id": "ejVaA9YctUdV"
   },
   "source": [
    "Another is with functions:"
   ]
  },
  {
   "cell_type": "code",
   "execution_count": null,
   "metadata": {
    "colab": {
     "base_uri": "https://localhost:8080/"
    },
    "id": "w53MLAWJtUdW",
    "outputId": "296012a0-55f1-4f3b-88ce-9553ffe5e1a5"
   },
   "outputs": [],
   "source": [
    "def get_motto(warrior):\n",
    "    print(warrior.motto())\n",
    "\n",
    "get_motto(arya)\n",
    "get_motto(tyrion)"
   ]
  },
  {
   "cell_type": "markdown",
   "metadata": {
    "id": "sewYYDL7tUdY"
   },
   "source": [
    "In both cases we were able to pass in different object types, and we obtained object-specific results from the same mechanism."
   ]
  },
  {
   "cell_type": "markdown",
   "metadata": {},
   "source": [
    "Polymorphism in Python means that different objects can share the same method name, but they can behave differently based on their own unique characteristics.\n",
    "\n",
    "For instance, think about the len() function in Python. You can use it to find the length of different things like strings, lists, or dictionaries. Even though these things are quite different, Python knows how to find their lengths because they all follow a common rule.\n",
    "\n",
    "In a similar way, in Python's object-oriented programming, you can create different classes that have methods with the same name. These methods might do different things depending on the class, but you can use them in a similar way."
   ]
  },
  {
   "cell_type": "markdown",
   "metadata": {},
   "source": []
  },
  {
   "cell_type": "code",
   "execution_count": null,
   "metadata": {},
   "outputs": [],
   "source": [
    "\n"
   ]
  },
  {
   "cell_type": "markdown",
   "metadata": {
    "id": "FF0HJ0VUtUdY"
   },
   "source": [
    "**Great! By now you should have a basic understanding of how to create your own objects with class in Python.**"
   ]
  },
  {
   "cell_type": "markdown",
   "metadata": {},
   "source": [
    "Define a class called Rectangle with the following attributes and methods:\n",
    "\n",
    "Attributes:\n",
    "\n",
    "width: representing the width of the rectangle (a positive integer).\n",
    "height: representing the height of the rectangle (a positive integer).\n",
    "    \n",
    "Methods:\n",
    "\n",
    "__init__(self, width, height): Constructor method that initializes the width and height attributes.\n",
    "area(self): Method that calculates and returns the area of the rectangle (width * height).\n",
    "    \n",
    "perimeter(self): Method that calculates and returns the perimeter of the rectangle (2 * (width + height)).\n",
    "    \n",
    "    \n",
    "\n",
    "Create an instance of the Rectangle class, set its width and height, and then print its area and perimeter."
   ]
  },
  {
   "cell_type": "code",
   "execution_count": null,
   "metadata": {},
   "outputs": [],
   "source": [
    "\n",
    "class Rectangle:\n",
    "    \n",
    "    def __init__(self,width,height):\n",
    "        \n",
    "        self.width=width\n",
    "        self.height=height\n",
    "        \n",
    "    def area(self):\n",
    "        \n",
    "        return self.width*self.height\n",
    "    \n",
    "    \n",
    "        \n",
    "\n",
    "\n",
    "\n",
    "\n",
    "\n",
    "\n",
    "\n",
    "\n",
    "rec=Rectangle(3,4)\n",
    "\n",
    "rec.area()\n"
   ]
  },
  {
   "cell_type": "code",
   "execution_count": null,
   "metadata": {},
   "outputs": [],
   "source": [
    "class Rectangle:\n",
    "    def __init__(self, width, height):\n",
    "        self.width = width\n",
    "        self.height = height\n",
    "        \n",
    "    def area(self):\n",
    "        return self.width * self.height\n",
    "    \n",
    "    def perimeter(self):\n",
    "        return 2 * (self.width + self.height)\n",
    "\n",
    "# Create an instance of Rectangle\n",
    "rectangle = Rectangle(5, 10)\n",
    "\n",
    "# Print the area and perimeter of the rectangle\n",
    "print(\"Area:\", rectangle.area())\n",
    "\n",
    "print(\"Perimeter:\", rectangle.perimeter())\n",
    "\n",
    "'''In this solution, the Rectangle class is defined with an __init__ constructor method \n",
    "to initialize the width and height attributes.It also includes area and perimeter methods to \n",
    "calculate and return the area and perimeter of the rectangle based on the provided formulas. \n",
    "Finally, an instance of the class is created with a width of 5 and a height of 10, and the area \n",
    "and perimeter are printed.'''\n",
    "\n",
    "\n",
    "\n",
    "\n",
    "\n"
   ]
  },
  {
   "cell_type": "markdown",
   "metadata": {},
   "source": [
    "# Understanding Inheritance in Python Classes\n",
    "\n",
    "Inheritance is a key concept in object-oriented programming (OOP) that allows a class to inherit attributes and methods from another class. This facilitates code reusability and the creation of a hierarchical organization of classes.\n",
    "\n",
    "## Basics of Inheritance\n",
    "\n",
    "- **Definition**: Inheritance enables a derived class (child class) to inherit attributes and methods from a base class (parent class), allowing the child class to reuse code and behavior from the parent.\n",
    "- **Benefits**: It promotes code reusability, makes the code more organized, and allows for the creation of complex functionalities without redundancy.\n",
    "\n",
    "## Implementing Inheritance in Python\n",
    "\n",
    "Python supports inheritance, and implementing it is straightforward. Here is the basic syntax:\n",
    "\n",
    "```python\n",
    "class BaseClass:\n",
    "    # Base class code\n",
    "\n",
    "class DerivedClass(BaseClass):\n",
    "    # Derived class code that inherits from BaseClass\n"
   ]
  },
  {
   "cell_type": "code",
   "execution_count": null,
   "metadata": {},
   "outputs": [],
   "source": [
    "# Define a base class named Vehicle\n",
    "class Vehicle:\n",
    "    def __init__(self, brand, model):\n",
    "        # Constructor for Vehicle, initializes brand and model attributes\n",
    "        self.brand = brand\n",
    "        self.model = model\n",
    "    \n",
    "    def display_info(self):\n",
    "        # Method to display the vehicle's brand and model\n",
    "        print(f\"Vehicle Brand: {self.brand}, Model: {self.model}\")\n",
    "        \n",
    "        \n",
    "        \n",
    "        \n",
    "\n",
    "# Define a derived class named Car, which inherits from Vehicle\n",
    "class Car(Vehicle):\n",
    "    \n",
    "    def __init__(self, brand, model, horsepower):\n",
    "        \n",
    "        # Constructor for Car that extends Vehicle's constructor\n",
    "        super().__init__(brand, model)  # Calls Vehicle's __init__ method to set brand and model\n",
    "        \n",
    "        self.horsepower = horsepower  # Initializes an additional attribute specific to Car\n",
    "\n",
    "    def display_car_info(self):\n",
    "        # Method to display car information, extending the functionality of display_info from Vehicle\n",
    "        super().display_info()  # Calls the display_info method from Vehicle to show brand and model\n",
    "        print(f\"Horsepower: {self.horsepower}\")  # Additionally, prints the horsepower specific to Car\n",
    "\n",
    "# Creating an instance of Car with brand, model, and horsepower\n",
    "car = Car(\"Toyota\", \"Camry\", 268)\n",
    "\n",
    "# Calling the display_car_info method of the car instance\n",
    "car.display_car_info()"
   ]
  },
  {
   "cell_type": "markdown",
   "metadata": {
    "id": "7MVXdj_MGzIO"
   },
   "source": [
    "# Errors and Exception Handling\n",
    "\n",
    "Now we will learn about Errors and Exception Handling in Python. You've definitely already encountered errors by this point in the course. For example:"
   ]
  },
  {
   "cell_type": "code",
   "execution_count": null,
   "metadata": {
    "colab": {
     "base_uri": "https://localhost:8080/",
     "height": 132
    },
    "id": "iRy54of4GuZY",
    "outputId": "67ea01e8-41e6-4931-bec9-3173e431b628"
   },
   "outputs": [],
   "source": [
    "print('XGBoost')"
   ]
  },
  {
   "cell_type": "markdown",
   "metadata": {
    "id": "w1zIZO0oSctr"
   },
   "source": [
    "Note how we get a SyntaxError, with the further description that it was an EOL (End of Line Error) while scanning the string literal. This is specific enough for us to see that we forgot a single quote at the end of the line. Understanding these various error types will help you debug your code much faster.\n",
    "\n",
    "This type of error and description is known as an Exception. Even if a statement or expression is syntactically correct, it may cause an error when an attempt is made to execute it. Errors detected during execution are called exceptions and are not unconditionally fatal.\n",
    "\n",
    "You can check out the full list of built-in exceptions [here](https://docs.python.org/3/library/exceptions.html). Now let's learn how to handle errors and exceptions in our own code. \n",
    "\n",
    "\n",
    "Key Differences\n",
    "\n",
    "Detection Time: Errors like syntax errors are detected at compile time (before the program runs), whereas exceptions can occur during runtime (while the program is running).\n",
    "\n",
    "Handling: Syntax errors and logical errors must be fixed in the code. Exceptions, however, can be handled at runtime using try-except blocks, allowing the program to continue running or fail gracefully.\n",
    "\n",
    "Nature: Errors are usually due to mistakes in the code's syntax or logic. Exceptions are conditions that occur which disrupt the normal flow of the program's execution."
   ]
  },
  {
   "cell_type": "markdown",
   "metadata": {},
   "source": [
    "\n",
    "In Python, the terms \"exception\" and \"error\" are related but have slightly different meanings:\n",
    "\n",
    "Error:\n",
    "An error in Python refers to any kind of unexpected or undesired situation that prevents the program from running successfully. Errors can occur due to various reasons, such as syntax mistakes, logical errors, or problems with system resources. Errors can cause a program to crash or produce incorrect results. Errors are generally categorized into three main types:\n",
    "\n",
    "# Type of Exception in Python\n",
    "\n",
    "Python provides a variety of built-in exceptions to handle different error scenarios that may arise during program execution. Below is an overview of some of the most commonly encountered exceptions, including their nature, common scenarios in which they occur, and general guidelines for handling them.\n",
    "\n",
    "## 1. `SyntaxError`\n",
    "\n",
    "**Nature**: Occurs when the Python parser detects incorrect syntax.\n",
    "\n",
    "**Common Scenarios**: Missing colons (`:`), incorrect indentation, missing parentheses, or typos in keywords.\n",
    "\n",
    "**Handling**: Review the error message for the line number and the specific part of the line to identify and correct the syntax error.\n",
    "\n",
    "## 2. `NameError`\n",
    "\n",
    "**Nature**: Raised when a local or global name is not found.\n",
    "\n",
    "**Common Scenarios**: Using a variable before it is defined, misspelling a variable name, or referencing a variable outside its scope.\n",
    "\n",
    "**Handling**: Ensure that all variables are defined before they are used and check for typographical errors in variable names.\n",
    "\n",
    "## 3. `TypeError`\n",
    "\n",
    "**Nature**: Occurs when an operation or function is applied to an object of inappropriate type.\n",
    "\n",
    "**Common Scenarios**: Attempting to perform unsupported operations like adding a string and an integer, or passing the wrong type of parameter to a function.\n",
    "\n",
    "**Handling**: Verify the types of objects involved in operations or function calls to ensure they are compatible.\n",
    "\n",
    "## 4. `IndexError`\n",
    "\n",
    "**Nature**: Raised when a sequence subscript (index) is out of range.\n",
    "\n",
    "**Common Scenarios**: Accessing an element from a list, tuple, or string using an index that exceeds the sequence's length.\n",
    "\n",
    "**Handling**: Check the length of sequences before accessing them by index and consider using looping constructs that avoid explicit index access.\n",
    "\n",
    "## 5. `KeyError`\n",
    "\n",
    "**Nature**: Occurs when a dictionary key is not found in the set of existing keys.\n",
    "\n",
    "**Common Scenarios**: Attempting to access or delete a dictionary element using a non-existent key.\n",
    "\n",
    "**Handling**: Use the dictionary `get()` method for accessing elements to provide a default value if the key is not found, or check if the key exists before accessing it.\n",
    "\n",
    "## 6. `ValueError`\n",
    "\n",
    "**Nature**: Raised when a built-in operation or function receives an argument that has the right type but an inappropriate value.\n",
    "\n",
    "**Common Scenarios**: Calling a function with a valid argument type that contains an invalid value, such as `int('a string')`.\n",
    "\n",
    "**Handling**: Validate the values of arguments before passing them to functions to ensure they are within an expected range or format.\n",
    "\n",
    "## 7. `AttributeError`\n",
    "\n",
    "**Nature**: Occurs when an attribute reference or assignment fails.\n",
    "\n",
    "**Common Scenarios**: Trying to access or assign an attribute of an object that does not exist.\n",
    "\n",
    "**Handling**: Ensure the object has the attribute before accessing or assigning it by checking the object's documentation or using the `hasattr()` function.\n",
    "\n",
    "## 8. `ZeroDivisionError`\n",
    "\n",
    "**Nature**: Raised when the second argument of a division or modulo operation is zero.\n",
    "\n",
    "**Common Scenarios**: Dividing any number by zero.\n",
    "\n",
    "**Handling**: Check or validate inputs to ensure that the denominator in a division or modulo operation is not zero.\n",
    "\n",
    "## 9. `FileNotFoundError`\n",
    "\n",
    "**Nature**: Occurs when a file or directory is requested but does not exist.\n",
    "\n",
    "**Common Scenarios**: Attempting to open a file that has not been created or is located in a different directory.\n",
    "\n",
    "**Handling**: Verify the existence of the file before attempting to open it, and provide appropriate error messages or fallback actions if the file is not found.\n",
    "\n",
    "## 10. `ImportError`\n",
    "\n",
    "**Nature**: Raised when an `import` statement fails to find the module definition or when `from ... import` cannot find a name that is to be imported.\n",
    "\n",
    "**Common Scenarios**: Trying to import a module that is not installed or misspelling the module name.\n",
    "\n",
    "**Handling**: Ensure that the required module is installed and correctly referenced in the import statement.\n",
    "\n",
    "## Conclusion\n",
    "\n",
    "Understanding and handling these common exceptions effectively can greatly enhance the robustness and reliability of Python programs. Each type of exception provides valuable feedback about specific problems that may occur, allowing developers to write more error-resistant code.\n"
   ]
  },
  {
   "cell_type": "code",
   "execution_count": null,
   "metadata": {},
   "outputs": [],
   "source": [
    "# SyntaxError Example\n",
    "# This will cause a SyntaxError due to the missing closing parenthesis\n",
    "print(\"Hello, world\"\n",
    "\n"
   ]
  },
  {
   "cell_type": "code",
   "execution_count": null,
   "metadata": {},
   "outputs": [],
   "source": [
    "# NameError Example\n",
    "# This will cause a NameError because 'age' is not defined\n",
    "\n",
    "age=10\n",
    "print(age)\n",
    "\n"
   ]
  },
  {
   "cell_type": "code",
   "execution_count": null,
   "metadata": {},
   "outputs": [],
   "source": [
    "# TypeError Example\n",
    "# This will cause a TypeError because you cannot add a string to an integer directly\n",
    "result = '100' + 100\n",
    "\n"
   ]
  },
  {
   "cell_type": "code",
   "execution_count": null,
   "metadata": {},
   "outputs": [],
   "source": [
    "# IndexError Example\n",
    "# This will cause an IndexError because the index 3 is out of range for the list\n",
    "my_list = [1, 2, 3]\n",
    "print(my_list[3])\n",
    "\n"
   ]
  },
  {
   "cell_type": "code",
   "execution_count": null,
   "metadata": {},
   "outputs": [],
   "source": [
    "# KeyError Example\n",
    "# This will cause a KeyError because there is no 'age' key in the dictionary\n",
    "my_dict = {'name': 'John'}\n",
    "print(my_dict['age'])\n",
    "\n",
    "\n"
   ]
  },
  {
   "cell_type": "code",
   "execution_count": null,
   "metadata": {},
   "outputs": [],
   "source": [
    "# ValueError Example\n",
    "# This will cause a ValueError when trying to convert a string that does not represent a number to an integer\n",
    "number = int(\"2\")\n",
    "\n"
   ]
  },
  {
   "cell_type": "code",
   "execution_count": null,
   "metadata": {},
   "outputs": [],
   "source": [
    "# AttributeError Example\n",
    "# This will cause an AttributeError because lists do not have a 'push' method\n",
    "my_list = [1, 2, 3]\n",
    "my_list.push(4)\n",
    "\n"
   ]
  },
  {
   "cell_type": "code",
   "execution_count": null,
   "metadata": {},
   "outputs": [],
   "source": [
    "# ZeroDivisionError Example\n",
    "# This will cause a ZeroDivisionError because you cannot divide by zero\n",
    "result = 10 / 0\n",
    "\n"
   ]
  },
  {
   "cell_type": "code",
   "execution_count": null,
   "metadata": {},
   "outputs": [],
   "source": [
    "# FileNotFoundError Example\n",
    "# This will cause a FileNotFoundError when attempting to open a file that does not exist\n",
    "with open('non_existent_file.txt', 'r') as file:\n",
    "    content = file.read()\n",
    "\n"
   ]
  },
  {
   "cell_type": "code",
   "execution_count": null,
   "metadata": {},
   "outputs": [],
   "source": [
    "# ImportError Example\n",
    "# This will cause an ImportError when attempting to import a module that does not exist\n",
    "import non_existent_module"
   ]
  },
  {
   "cell_type": "markdown",
   "metadata": {
    "id": "kTa8caFuSezF"
   },
   "source": [
    "## try and except\n",
    "\n",
    "The basic terminology and syntax used to handle errors in Python are the <code>try</code> and <code>except</code> statements. The code which can cause an exception to occur is put in the <code>try</code> block and the handling of the exception is then implemented in the <code>except</code> block of code. The syntax follows:\n",
    "\n",
    "    try:\n",
    "       You do your operations here...\n",
    "       ...\n",
    "    except:\n",
    "       If there is an exception, then execute this block.\n",
    "    else:\n",
    "       If there is no exception then execute this block.\n",
    "\n",
    "To get a better understanding of this let's check out an example:"
   ]
  },
  {
   "cell_type": "code",
   "execution_count": 10,
   "metadata": {
    "colab": {
     "base_uri": "https://localhost:8080/"
    },
    "id": "Ckb2jAAeZlkv",
    "outputId": "c2a23122-d894-4d3a-eb12-b74b0b25fac3"
   },
   "outputs": [
    {
     "name": "stdout",
     "output_type": "stream",
     "text": [
      "Good to go!\n",
      "a\n",
      "b\n",
      "No errors encountered!\n",
      "e\n",
      "f\n"
     ]
    }
   ],
   "source": [
    "try:\n",
    "    print(\"Good to go!\")\n",
    "    print('a')\n",
    "    print('b')\n",
    "except:\n",
    "    # This will check for any exception and then execute this print statement\n",
    "    print(\"Oops!\")\n",
    "    print('c')\n",
    "    print('d')\n",
    "else:\n",
    "    print(\"No errors encountered!\")\n",
    "    print('e')\n",
    "    print('f')"
   ]
  },
  {
   "cell_type": "code",
   "execution_count": 11,
   "metadata": {},
   "outputs": [
    {
     "name": "stdout",
     "output_type": "stream",
     "text": [
      "Good to go!\n",
      "a erlvne\n",
      "b\n"
     ]
    }
   ],
   "source": [
    "try:\n",
    "    print(\"Good to go!\")\n",
    "    print('a','erlvne')\n",
    "    print('b')\n",
    "except:\n",
    "    # This will check for any exception and then execute this print statement\n",
    "    print(\"Oops!\")\n",
    "    print(c)\n",
    "    print('d')\n"
   ]
  },
  {
   "cell_type": "markdown",
   "metadata": {
    "id": "1iWZyynISj7-"
   },
   "source": [
    "Great! Now we don't actually need to memorize that list of exception types! Now what if we kept wanting to run code after the exception occurred? This is where <code>finally</code> comes in.\n",
    "## finally\n",
    "The <code>finally:</code> block of code will always be run regardless if there was an exception in the <code>try</code> code block. The syntax is:\n",
    "\n",
    "    try:\n",
    "       Code block here\n",
    "       ...\n",
    "       Due to any exception, this code may be skipped!\n",
    "    finally:\n",
    "       This code block would always be executed.\n",
    "\n",
    "For example:"
   ]
  },
  {
   "cell_type": "code",
   "execution_count": 16,
   "metadata": {
    "colab": {
     "base_uri": "https://localhost:8080/"
    },
    "id": "arY-rn-CGvKS",
    "outputId": "b8e2c615-5376-4f47-ac3d-1480958026e2"
   },
   "outputs": [
    {
     "name": "stdout",
     "output_type": "stream",
     "text": [
      "Execute try statements\n",
      "Always execute finally code blocks\n"
     ]
    }
   ],
   "source": [
    "try:\n",
    "    \n",
    "  print(\"Execute try statements\")\n",
    "        \n",
    "finally:\n",
    "  print(\"Always execute finally code blocks\")"
   ]
  },
  {
   "cell_type": "markdown",
   "metadata": {
    "id": "n-4eDtEnSvI9"
   },
   "source": [
    "We can use this in conjunction with <code>except</code>. Let's see a new example that will take into account a user providing the wrong input:"
   ]
  },
  {
   "cell_type": "code",
   "execution_count": 14,
   "metadata": {
    "id": "ldMDSNkeSnl1"
   },
   "outputs": [],
   "source": [
    "a = 1\n",
    "b = 0.2"
   ]
  },
  {
   "cell_type": "code",
   "execution_count": 15,
   "metadata": {
    "colab": {
     "base_uri": "https://localhost:8080/"
    },
    "id": "hn1ZlKSDSwxQ",
    "outputId": "9cdb4311-22fa-47df-a1b0-e9ad4a191bb3"
   },
   "outputs": [
    {
     "name": "stdout",
     "output_type": "stream",
     "text": [
      "first _a\n",
      "0.2 <class 'float'>\n",
      "Type printed\n"
     ]
    }
   ],
   "source": [
    "try:\n",
    "    print('first _a')\n",
    "    print(afdwfwf, type(aefwffewf))\n",
    "    print('a')\n",
    "except:\n",
    "    print(b, type(b))\n",
    "finally:\n",
    "    print('Type printed')"
   ]
  },
  {
   "cell_type": "code",
   "execution_count": 19,
   "metadata": {
    "colab": {
     "base_uri": "https://localhost:8080/"
    },
    "id": "OrkKRRLv_vbf",
    "outputId": "a07eb64a-7316-4d5e-a978-08d5c5eab1a7"
   },
   "outputs": [
    {
     "name": "stdout",
     "output_type": "stream",
     "text": [
      "The error is :  name 'adefewdwd' is not defined\n",
      "0.2 <class 'float'>\n"
     ]
    }
   ],
   "source": [
    "try:\n",
    "    a = 1\n",
    "    print(adefewdwd)\n",
    "    try:\n",
    "      print(type(afggdgdsgg))\n",
    "    except:\n",
    "      print('Error occured')\n",
    "except Exception as ex:\n",
    "    print('The error is : ', ex)\n",
    "    print(b, type(b))"
   ]
  },
  {
   "cell_type": "markdown",
   "metadata": {
    "id": "-rhyUIY4S6gZ"
   },
   "source": [
    "**Great! Now you know how to handle errors and exceptions in Python with the try, except, else, and finally notation!**\n",
    "\n"
   ]
  },
  {
   "cell_type": "markdown",
   "metadata": {
    "id": "pZrycmS2S_1t"
   },
   "source": [
    "# Real World Use Case\n",
    "\n",
    "### Uber's simplified pricing model\n",
    "\n",
    "When you request an Uber, you enter your pick-up location and the destination. Based on the distance, peak hours, willingness to pay and many other factors, Uber uses a machine learning algorithm to compute what prices will be shown to you.\n",
    "\n",
    "Let's consider a simplistic version of the Uber Pricing Model where you compute the price based on the distance between the pick-up and the drop location and the time of the booking.\n",
    "\n",
    "User Inputs:\n",
    "\n",
    "* Pick-up location (pick_up_latitude, pick_up_longitude)\n",
    "* Drop location (drop_latitude, drop_longitude)\n",
    "* Time of booking\n",
    "\n",
    "Output:\n",
    "\n",
    "* Final Price"
   ]
  },
  {
   "cell_type": "markdown",
   "metadata": {
    "id": "N6hCfBw3TNhJ"
   },
   "source": [
    " ### Development Code"
   ]
  },
  {
   "cell_type": "code",
   "execution_count": null,
   "metadata": {},
   "outputs": [],
   "source": [
    "pip install geopy"
   ]
  },
  {
   "cell_type": "code",
   "execution_count": null,
   "metadata": {
    "id": "vdwRZpbJTC2b"
   },
   "outputs": [],
   "source": [
    "# Calculate the distance between the pick-up location and the drop location\n",
    "\n",
    "import geopy.distance\n",
    "\n",
    "def get_distance(location_1, location_2):\n",
    "\n",
    "    distance = geopy.distance.distance(location_1, location_2).km\n",
    "\n",
    "    return distance"
   ]
  },
  {
   "cell_type": "code",
   "execution_count": null,
   "metadata": {
    "id": "zC0vGEflTK8c"
   },
   "outputs": [],
   "source": [
    "def get_price_per_km(hour):\n",
    "\n",
    "    if (hour > 8) & (hour < 11):\n",
    "        price_per_km = 20\n",
    "    elif (hour > 18) & (hour < 21):\n",
    "        price_per_km = 15\n",
    "    else:\n",
    "        price_per_km = 10\n",
    "\n",
    "    return price_per_km"
   ]
  },
  {
   "cell_type": "code",
   "execution_count": null,
   "metadata": {},
   "outputs": [],
   "source": [
    "a=1.434353\n",
    "\n",
    "round(a,1)"
   ]
  },
  {
   "cell_type": "code",
   "execution_count": null,
   "metadata": {
    "id": "sJhJg5PhTPWh"
   },
   "outputs": [],
   "source": [
    "def get_final_price(pick_up_location, drop_location, booking_hour):\n",
    "\n",
    "    total_distance = get_distance(pick_up_location, drop_location)\n",
    "    actual_price_per_km = get_price_per_km(booking_hour)\n",
    "\n",
    "    final_price = round(total_distance * actual_price_per_km, 2)\n",
    "\n",
    "    return final_price"
   ]
  },
  {
   "cell_type": "code",
   "execution_count": null,
   "metadata": {
    "id": "cYICiaPGTQ5c"
   },
   "outputs": [],
   "source": [
    "# Inputs\n",
    "\n",
    "pick_up_location = (24, 70)\n",
    "drop_location = (24.1, 70.1)\n",
    "booking_time = 19"
   ]
  },
  {
   "cell_type": "code",
   "execution_count": null,
   "metadata": {
    "colab": {
     "base_uri": "https://localhost:8080/"
    },
    "id": "J-6Y6diXTSU7",
    "outputId": "8e912397-eb90-4262-e78b-212b1d78dee7"
   },
   "outputs": [],
   "source": [
    "# Output\n",
    "\n",
    "get_final_price(pick_up_location, drop_location, booking_time)"
   ]
  },
  {
   "cell_type": "markdown",
   "metadata": {
    "id": "q_nSK3-FTaqD"
   },
   "source": [
    "### Production Grade Code"
   ]
  },
  {
   "cell_type": "code",
   "execution_count": null,
   "metadata": {
    "id": "QHPqo8fNTUGG"
   },
   "outputs": [],
   "source": [
    "# Calculate the distance between the pick-up location and the drop location\n",
    "\n",
    "import geopy.distance\n",
    "import math\n",
    "\n",
    "class Maps:\n",
    "\n",
    "    def __init__(self):\n",
    "        pass\n",
    "\n",
    "    def get_distance(self, location_1, location_2):\n",
    "\n",
    "        try:\n",
    "            distance = geopy.distance.distance(location_1, location_2).km\n",
    "        except:\n",
    "            distance = math.sqrt((location_1[0]-location_2[0])^2 + (location_1[1]-location_2[1])^2)\n",
    "\n",
    "        return distance"
   ]
  },
  {
   "cell_type": "code",
   "execution_count": null,
   "metadata": {
    "id": "4n1-Cf9GTX4h"
   },
   "outputs": [],
   "source": [
    "class SurgePricing:\n",
    "\n",
    "    def __init__(self):\n",
    "        pass\n",
    "\n",
    "    def get_price_per_km(self, hour):\n",
    "\n",
    "        try:\n",
    "\n",
    "            if (hour > 8) & (hour < 11):\n",
    "                price_per_km = 20\n",
    "            elif (hour > 18) & (hour < 21):\n",
    "                price_per_km = 15\n",
    "            else:\n",
    "                price_per_km = 10\n",
    "\n",
    "        except:\n",
    "\n",
    "            price_per_km = 10\n",
    "\n",
    "        return price_per_km"
   ]
  },
  {
   "cell_type": "code",
   "execution_count": null,
   "metadata": {
    "id": "4lSkQz2ITer_"
   },
   "outputs": [],
   "source": [
    "def get_final_price(pick_up_location, drop_location, booking_hour):\n",
    "\n",
    "    maps = Maps()\n",
    "    surge = SurgePricing()\n",
    "\n",
    "    total_distance = maps.get_distance(pick_up_location, drop_location)\n",
    "    actual_price_per_km = surge.get_price_per_km(booking_hour)\n",
    "\n",
    "    final_price = round(total_distance * actual_price_per_km, 2)\n",
    "\n",
    "    return final_price"
   ]
  },
  {
   "cell_type": "code",
   "execution_count": null,
   "metadata": {
    "colab": {
     "base_uri": "https://localhost:8080/"
    },
    "id": "aQ0YYXCATgJS",
    "outputId": "3474fdba-1879-462a-9c08-f8df71045e02"
   },
   "outputs": [],
   "source": [
    "# Output\n",
    "\n",
    "get_final_price(pick_up_location, drop_location, booking_time)"
   ]
  },
  {
   "cell_type": "code",
   "execution_count": null,
   "metadata": {
    "id": "f_AP-EMnThm5"
   },
   "outputs": [],
   "source": []
  },
  {
   "cell_type": "code",
   "execution_count": null,
   "metadata": {
    "id": "T0N2tUbLZikS"
   },
   "outputs": [],
   "source": [
    "class Cashflow_Calculate():\n",
    "    \n",
    "    def __init__(self,quantity=20,cost=15,sell=20,my_list=[]):\n",
    "        \n",
    "        self.quantity=quantity\n",
    "        self.cost=cost\n",
    "        self.sell=sell\n",
    "        self.my_list=my_list\n",
    "        \n",
    "    \n",
    "    def profit(self):\n",
    "        \n",
    "        profit= self.quantity*self.sell - self.quantity-self.cost\n",
    "        \n",
    "        print(self.my_list)\n",
    "        \n",
    "        return profit\n",
    "        \n",
    "        \n",
    "    "
   ]
  },
  {
   "cell_type": "code",
   "execution_count": null,
   "metadata": {},
   "outputs": [],
   "source": [
    "economic=Cashflow_Calculate(30,15,20,['this shold  print'])"
   ]
  },
  {
   "cell_type": "code",
   "execution_count": null,
   "metadata": {},
   "outputs": [],
   "source": [
    "list_1=[]"
   ]
  },
  {
   "cell_type": "code",
   "execution_count": null,
   "metadata": {},
   "outputs": [],
   "source": [
    "list_1."
   ]
  },
  {
   "cell_type": "code",
   "execution_count": null,
   "metadata": {},
   "outputs": [],
   "source": [
    "economic.profit()"
   ]
  },
  {
   "cell_type": "markdown",
   "metadata": {},
   "source": [
    "Object-Oriented Programming (OOP) Principles: Classes are a fundamental concept in object-oriented programming. They allow you to model real-world entities, their attributes, and their behaviors in a structured and modular way. This can make your code more organized, maintainable, and extensible.\n",
    "\n",
    "Encapsulation: Classes enable encapsulation, which means bundling data (attributes) and the functions (methods) that operate on that data into a single unit. This helps control access to data and ensures that the data is manipulated in a controlled manner.\n",
    "\n",
    "Code Reusability: With classes, you can create reusable templates that define a certain type of object. This can save time and effort, especially when you need to create multiple instances of similar objects with shared behavior.\n",
    "\n",
    "Inheritance and Polymorphism: Inheritance allows you to create new classes based on existing ones, inheriting their attributes and behaviors. This promotes code reuse and allows you to create specialized classes that extend or override functionality from a base class. Polymorphism allows you to write code that can work with objects of different classes through a common interface.\n",
    "\n",
    "State Management: Classes can store and manage the state of an object over time. For example, you can have instance variables that retain values between method calls, providing a way to maintain context and memory.\n",
    "\n",
    "Complex Systems: When dealing with complex systems, classes can provide a structured way to represent different components and their interactions. This helps manage the complexity of the codebase and makes it easier to reason about the system as a whole.\n",
    ".\n",
    "\n",
    "Namespacing: Classes help organize code into separate namespaces. This reduces the risk of naming conflicts when different parts of the codebase have similar function names."
   ]
  }
 ],
 "metadata": {
  "colab": {
   "provenance": []
  },
  "kernelspec": {
   "display_name": "Python 3",
   "language": "python",
   "name": "python3"
  },
  "language_info": {
   "codemirror_mode": {
    "name": "ipython",
    "version": 3
   },
   "file_extension": ".py",
   "mimetype": "text/x-python",
   "name": "python",
   "nbconvert_exporter": "python",
   "pygments_lexer": "ipython3",
   "version": "3.11.9"
  }
 },
 "nbformat": 4,
 "nbformat_minor": 1
}
